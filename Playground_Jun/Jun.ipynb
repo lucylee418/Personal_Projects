{
 "cells": [
  {
   "cell_type": "markdown",
   "metadata": {},
   "source": [
    "## Evaluation\n",
    "Submissions are scored on the root mean squared error."
   ]
  },
  {
   "cell_type": "markdown",
   "metadata": {},
   "source": [
    "## References\n",
    "https://www.kaggle.com/code/sebastianvangerwen/1st-place-solution-tps-jun-denoising-ae issued by **@SEBASTIAN VAN GERWEN**<br>\n",
    "https://towardsdatascience.com/denoising-autoencoders-dae-how-to-use-neural-networks-to-clean-up-your-data-cd9c19bc6915 issued by **@Saul Dobilas**"
   ]
  },
  {
   "cell_type": "markdown",
   "metadata": {},
   "source": [
    "## Blue Print"
   ]
  },
  {
   "cell_type": "markdown",
   "metadata": {},
   "source": [
    "## 0. Import Packages"
   ]
  },
  {
   "cell_type": "code",
   "execution_count": 1,
   "metadata": {},
   "outputs": [],
   "source": [
    "import math\n",
    "import pandas as pd\n",
    "import numpy as np\n",
    "\n",
    "from sklearn.impute import SimpleImputer\n",
    "from sklearn.model_selection import train_test_split\n",
    "from sklearn.preprocessing import StandardScaler\n",
    "from sklearn.metrics import mean_squared_error\n",
    "\n",
    "import torch\n",
    "import torch.nn.functional as F\n",
    "import torch.utils.data\n",
    "from torch import nn\n",
    "\n",
    "from tqdm import tqdm"
   ]
  },
  {
   "cell_type": "markdown",
   "metadata": {},
   "source": [
    "## 1. Data Loading"
   ]
  },
  {
   "cell_type": "code",
   "execution_count": 2,
   "metadata": {},
   "outputs": [
    {
     "data": {
      "text/plain": [
       "(1000000, 81)"
      ]
     },
     "execution_count": 2,
     "metadata": {},
     "output_type": "execute_result"
    }
   ],
   "source": [
    "# Load dataset\n",
    "data = pd.read_csv('data.csv')\n",
    "data.shape"
   ]
  },
  {
   "cell_type": "code",
   "execution_count": 3,
   "metadata": {},
   "outputs": [
    {
     "name": "stdout",
     "output_type": "stream",
     "text": [
      "<class 'pandas.core.frame.DataFrame'>\n",
      "RangeIndex: 1000000 entries, 0 to 999999\n",
      "Data columns (total 81 columns):\n",
      " #   Column  Non-Null Count    Dtype  \n",
      "---  ------  --------------    -----  \n",
      " 0   row_id  1000000 non-null  int64  \n",
      " 1   F_1_0   981603 non-null   float64\n",
      " 2   F_1_1   981784 non-null   float64\n",
      " 3   F_1_2   981992 non-null   float64\n",
      " 4   F_1_3   981750 non-null   float64\n",
      " 5   F_1_4   981678 non-null   float64\n",
      " 6   F_1_5   981911 non-null   float64\n",
      " 7   F_1_6   981867 non-null   float64\n",
      " 8   F_1_7   981872 non-null   float64\n",
      " 9   F_1_8   981838 non-null   float64\n",
      " 10  F_1_9   981751 non-null   float64\n",
      " 11  F_1_10  982039 non-null   float64\n",
      " 12  F_1_11  981830 non-null   float64\n",
      " 13  F_1_12  981797 non-null   float64\n",
      " 14  F_1_13  981602 non-null   float64\n",
      " 15  F_1_14  981961 non-null   float64\n",
      " 16  F_2_0   1000000 non-null  int64  \n",
      " 17  F_2_1   1000000 non-null  int64  \n",
      " 18  F_2_2   1000000 non-null  int64  \n",
      " 19  F_2_3   1000000 non-null  int64  \n",
      " 20  F_2_4   1000000 non-null  int64  \n",
      " 21  F_2_5   1000000 non-null  int64  \n",
      " 22  F_2_6   1000000 non-null  int64  \n",
      " 23  F_2_7   1000000 non-null  int64  \n",
      " 24  F_2_8   1000000 non-null  int64  \n",
      " 25  F_2_9   1000000 non-null  int64  \n",
      " 26  F_2_10  1000000 non-null  int64  \n",
      " 27  F_2_11  1000000 non-null  int64  \n",
      " 28  F_2_12  1000000 non-null  int64  \n",
      " 29  F_2_13  1000000 non-null  int64  \n",
      " 30  F_2_14  1000000 non-null  int64  \n",
      " 31  F_2_15  1000000 non-null  int64  \n",
      " 32  F_2_16  1000000 non-null  int64  \n",
      " 33  F_2_17  1000000 non-null  int64  \n",
      " 34  F_2_18  1000000 non-null  int64  \n",
      " 35  F_2_19  1000000 non-null  int64  \n",
      " 36  F_2_20  1000000 non-null  int64  \n",
      " 37  F_2_21  1000000 non-null  int64  \n",
      " 38  F_2_22  1000000 non-null  int64  \n",
      " 39  F_2_23  1000000 non-null  int64  \n",
      " 40  F_2_24  1000000 non-null  int64  \n",
      " 41  F_3_0   981971 non-null   float64\n",
      " 42  F_3_1   981655 non-null   float64\n",
      " 43  F_3_2   981944 non-null   float64\n",
      " 44  F_3_3   981946 non-null   float64\n",
      " 45  F_3_4   981627 non-null   float64\n",
      " 46  F_3_5   981702 non-null   float64\n",
      " 47  F_3_6   981808 non-null   float64\n",
      " 48  F_3_7   981987 non-null   float64\n",
      " 49  F_3_8   981902 non-null   float64\n",
      " 50  F_3_9   981894 non-null   float64\n",
      " 51  F_3_10  981800 non-null   float64\n",
      " 52  F_3_11  981612 non-null   float64\n",
      " 53  F_3_12  981703 non-null   float64\n",
      " 54  F_3_13  981940 non-null   float64\n",
      " 55  F_3_14  981861 non-null   float64\n",
      " 56  F_3_15  981762 non-null   float64\n",
      " 57  F_3_16  981878 non-null   float64\n",
      " 58  F_3_17  981722 non-null   float64\n",
      " 59  F_3_18  981911 non-null   float64\n",
      " 60  F_3_19  981800 non-null   float64\n",
      " 61  F_3_20  981752 non-null   float64\n",
      " 62  F_3_21  981604 non-null   float64\n",
      " 63  F_3_22  981823 non-null   float64\n",
      " 64  F_3_23  981794 non-null   float64\n",
      " 65  F_3_24  981855 non-null   float64\n",
      " 66  F_4_0   981872 non-null   float64\n",
      " 67  F_4_1   981836 non-null   float64\n",
      " 68  F_4_2   981505 non-null   float64\n",
      " 69  F_4_3   981971 non-null   float64\n",
      " 70  F_4_4   982043 non-null   float64\n",
      " 71  F_4_5   981937 non-null   float64\n",
      " 72  F_4_6   981675 non-null   float64\n",
      " 73  F_4_7   981986 non-null   float64\n",
      " 74  F_4_8   981824 non-null   float64\n",
      " 75  F_4_9   981735 non-null   float64\n",
      " 76  F_4_10  981775 non-null   float64\n",
      " 77  F_4_11  981881 non-null   float64\n",
      " 78  F_4_12  981694 non-null   float64\n",
      " 79  F_4_13  982005 non-null   float64\n",
      " 80  F_4_14  981733 non-null   float64\n",
      "dtypes: float64(55), int64(26)\n",
      "memory usage: 618.0 MB\n"
     ]
    }
   ],
   "source": [
    "# Check data types and missing values\n",
    "data.info()"
   ]
  },
  {
   "cell_type": "markdown",
   "metadata": {},
   "source": [
    "**Comments**: Column `F_1_0` ~ `F_1_14`, `F_3_0` ~ `F_3_24`, `F_4_0` ~ `F_4_14` have missing values. The types of missing values are all floats."
   ]
  },
  {
   "cell_type": "code",
   "execution_count": 16,
   "metadata": {},
   "outputs": [
    {
     "data": {
      "text/plain": [
       "['F_1_0',\n",
       " 'F_1_1',\n",
       " 'F_1_2',\n",
       " 'F_1_3',\n",
       " 'F_1_4',\n",
       " 'F_1_5',\n",
       " 'F_1_6',\n",
       " 'F_1_7',\n",
       " 'F_1_8',\n",
       " 'F_1_9',\n",
       " 'F_1_10',\n",
       " 'F_1_11',\n",
       " 'F_1_12',\n",
       " 'F_1_13',\n",
       " 'F_1_14',\n",
       " 'F_2_0',\n",
       " 'F_2_1',\n",
       " 'F_2_2',\n",
       " 'F_2_3',\n",
       " 'F_2_4',\n",
       " 'F_2_5',\n",
       " 'F_2_6',\n",
       " 'F_2_7',\n",
       " 'F_2_8',\n",
       " 'F_2_9',\n",
       " 'F_2_10',\n",
       " 'F_2_11',\n",
       " 'F_2_12',\n",
       " 'F_2_13',\n",
       " 'F_2_14',\n",
       " 'F_2_15',\n",
       " 'F_2_16',\n",
       " 'F_2_17',\n",
       " 'F_2_18',\n",
       " 'F_2_19',\n",
       " 'F_2_20',\n",
       " 'F_2_21',\n",
       " 'F_2_22',\n",
       " 'F_2_23',\n",
       " 'F_2_24',\n",
       " 'F_3_0',\n",
       " 'F_3_1',\n",
       " 'F_3_2',\n",
       " 'F_3_3',\n",
       " 'F_3_4',\n",
       " 'F_3_5',\n",
       " 'F_3_6',\n",
       " 'F_3_7',\n",
       " 'F_3_8',\n",
       " 'F_3_9',\n",
       " 'F_3_10',\n",
       " 'F_3_11',\n",
       " 'F_3_12',\n",
       " 'F_3_13',\n",
       " 'F_3_14',\n",
       " 'F_3_15',\n",
       " 'F_3_16',\n",
       " 'F_3_17',\n",
       " 'F_3_18',\n",
       " 'F_3_19',\n",
       " 'F_3_20',\n",
       " 'F_3_21',\n",
       " 'F_3_22',\n",
       " 'F_3_23',\n",
       " 'F_3_24',\n",
       " 'F_4_0',\n",
       " 'F_4_1',\n",
       " 'F_4_2',\n",
       " 'F_4_3',\n",
       " 'F_4_4',\n",
       " 'F_4_5',\n",
       " 'F_4_6',\n",
       " 'F_4_7',\n",
       " 'F_4_8',\n",
       " 'F_4_9',\n",
       " 'F_4_10',\n",
       " 'F_4_11',\n",
       " 'F_4_12',\n",
       " 'F_4_13',\n",
       " 'F_4_14']"
      ]
     },
     "execution_count": 16,
     "metadata": {},
     "output_type": "execute_result"
    }
   ],
   "source": [
    "# List of features\n",
    "features = data.columns.drop('row_id').tolist()\n",
    "features"
   ]
  },
  {
   "attachments": {},
   "cell_type": "markdown",
   "metadata": {},
   "source": [
    "## 2. "
   ]
  },
  {
   "cell_type": "code",
   "execution_count": 29,
   "metadata": {},
   "outputs": [],
   "source": [
    "# Binomial x Random one 0 per row\n",
    "def random_mask(n, k):\n",
    "    mask = np.ones((n, k))\n",
    "\n",
    "    # Set one random per row at 0\n",
    "    mask[(np.arange(n), np.random.randint(0, k, n))] = 0\n",
    "    \n",
    "    # Add binomial probability as well\n",
    "    b_mask = np.random.binomial(1, 0.5, (n, k))    # 1 trial, p=0.5\n",
    "    return mask * b_mask"
   ]
  },
  {
   "cell_type": "code",
   "execution_count": 70,
   "metadata": {},
   "outputs": [],
   "source": [
    "def mask_n_rows(n, k, n_missing):\n",
    "    # n_missing number of indices of columns with small values\n",
    "    idx = np.random.rand(n, k).argsort(1)[:, :n_missing]\n",
    "\n",
    "    col_idx = idx.flatten()\n",
    "    row_idx = np.arange(n).repeat(n_missing)\n",
    "    \n",
    "    mask = np.ones((n, k))\n",
    "    mask[(row_idx, col_idx)] = 0\n",
    "    return mask"
   ]
  },
  {
   "cell_type": "code",
   "execution_count": null,
   "metadata": {},
   "outputs": [],
   "source": []
  }
 ],
 "metadata": {
  "kernelspec": {
   "display_name": "Python 3.9.7 ('base')",
   "language": "python",
   "name": "python3"
  },
  "language_info": {
   "codemirror_mode": {
    "name": "ipython",
    "version": 3
   },
   "file_extension": ".py",
   "mimetype": "text/x-python",
   "name": "python",
   "nbconvert_exporter": "python",
   "pygments_lexer": "ipython3",
   "version": "3.9.7"
  },
  "orig_nbformat": 4,
  "vscode": {
   "interpreter": {
    "hash": "1945a49d8267038c199a72e8f61b6bfcbb9f4626ddb3ddff4ec56a3f45e14a7a"
   }
  }
 },
 "nbformat": 4,
 "nbformat_minor": 2
}
