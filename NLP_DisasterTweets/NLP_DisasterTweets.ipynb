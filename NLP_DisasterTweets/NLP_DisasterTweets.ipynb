{
 "cells": [
  {
   "cell_type": "markdown",
   "metadata": {},
   "source": [
    "Link : https://www.kaggle.com/competitions/nlp-getting-started/overview/evaluation"
   ]
  },
  {
   "cell_type": "markdown",
   "metadata": {},
   "source": [
    "## Blue Print"
   ]
  },
  {
   "cell_type": "markdown",
   "metadata": {},
   "source": [
    "1. Check dataset\n",
    "2. Cleaning\n",
    "3. Preprocessing\n",
    "4. Data Split (using stratified sampling)"
   ]
  },
  {
   "cell_type": "markdown",
   "metadata": {},
   "source": [
    "## Error Function"
   ]
  },
  {
   "cell_type": "markdown",
   "metadata": {},
   "source": [
    "$F_1 = 2\\frac{precision * recall}{precision + recall}$ (1 is the best, 0 is the worst) where:\n",
    " \n",
    "precision = $\\frac{TP}{TP+FP}$, recall = $\\frac{TP}{TP+FN}$"
   ]
  },
  {
   "cell_type": "code",
   "execution_count": 1,
   "metadata": {},
   "outputs": [],
   "source": [
    "# sklearn.metrics.f1_score(y_true, y_pred, *, labels=None, pos_label=1, average='binary', \n",
    "# sample_weight=None, zero_division='warn')\n",
    "# https://scikit-learn.org/stable/modules/generated/sklearn.metrics.f1_score.html"
   ]
  },
  {
   "cell_type": "markdown",
   "metadata": {},
   "source": [
    "## 1. Data Investigation"
   ]
  },
  {
   "cell_type": "code",
   "execution_count": 1,
   "metadata": {},
   "outputs": [],
   "source": [
    "import numpy as np\n",
    "import pandas as pd\n",
    "from sklearn import feature_extraction, linear_model, model_selection, preprocessing\n",
    "from sklearn.model_selection import train_test_split\n",
    "from sklearn.feature_extraction.text import CountVectorizer\n",
    "from sklearn.metrics import f1_score\n",
    "from nltk.corpus import stopwords"
   ]
  },
  {
   "cell_type": "code",
   "execution_count": 3,
   "metadata": {},
   "outputs": [
    {
     "name": "stdout",
     "output_type": "stream",
     "text": [
      "(7613, 5) (3263, 4)\n"
     ]
    },
    {
     "data": {
      "text/html": [
       "<div>\n",
       "<style scoped>\n",
       "    .dataframe tbody tr th:only-of-type {\n",
       "        vertical-align: middle;\n",
       "    }\n",
       "\n",
       "    .dataframe tbody tr th {\n",
       "        vertical-align: top;\n",
       "    }\n",
       "\n",
       "    .dataframe thead th {\n",
       "        text-align: right;\n",
       "    }\n",
       "</style>\n",
       "<table border=\"1\" class=\"dataframe\">\n",
       "  <thead>\n",
       "    <tr style=\"text-align: right;\">\n",
       "      <th></th>\n",
       "      <th>id</th>\n",
       "      <th>keyword</th>\n",
       "      <th>location</th>\n",
       "      <th>text</th>\n",
       "      <th>target</th>\n",
       "    </tr>\n",
       "  </thead>\n",
       "  <tbody>\n",
       "    <tr>\n",
       "      <th>0</th>\n",
       "      <td>1</td>\n",
       "      <td>NaN</td>\n",
       "      <td>NaN</td>\n",
       "      <td>Our Deeds are the Reason of this #earthquake M...</td>\n",
       "      <td>1</td>\n",
       "    </tr>\n",
       "    <tr>\n",
       "      <th>1</th>\n",
       "      <td>4</td>\n",
       "      <td>NaN</td>\n",
       "      <td>NaN</td>\n",
       "      <td>Forest fire near La Ronge Sask. Canada</td>\n",
       "      <td>1</td>\n",
       "    </tr>\n",
       "    <tr>\n",
       "      <th>2</th>\n",
       "      <td>5</td>\n",
       "      <td>NaN</td>\n",
       "      <td>NaN</td>\n",
       "      <td>All residents asked to 'shelter in place' are ...</td>\n",
       "      <td>1</td>\n",
       "    </tr>\n",
       "    <tr>\n",
       "      <th>3</th>\n",
       "      <td>6</td>\n",
       "      <td>NaN</td>\n",
       "      <td>NaN</td>\n",
       "      <td>13,000 people receive #wildfires evacuation or...</td>\n",
       "      <td>1</td>\n",
       "    </tr>\n",
       "    <tr>\n",
       "      <th>4</th>\n",
       "      <td>7</td>\n",
       "      <td>NaN</td>\n",
       "      <td>NaN</td>\n",
       "      <td>Just got sent this photo from Ruby #Alaska as ...</td>\n",
       "      <td>1</td>\n",
       "    </tr>\n",
       "  </tbody>\n",
       "</table>\n",
       "</div>"
      ],
      "text/plain": [
       "   id keyword location                                               text  \\\n",
       "0   1     NaN      NaN  Our Deeds are the Reason of this #earthquake M...   \n",
       "1   4     NaN      NaN             Forest fire near La Ronge Sask. Canada   \n",
       "2   5     NaN      NaN  All residents asked to 'shelter in place' are ...   \n",
       "3   6     NaN      NaN  13,000 people receive #wildfires evacuation or...   \n",
       "4   7     NaN      NaN  Just got sent this photo from Ruby #Alaska as ...   \n",
       "\n",
       "   target  \n",
       "0       1  \n",
       "1       1  \n",
       "2       1  \n",
       "3       1  \n",
       "4       1  "
      ]
     },
     "execution_count": 3,
     "metadata": {},
     "output_type": "execute_result"
    }
   ],
   "source": [
    "# Load dataset\n",
    "train = pd.read_csv(\"train.csv\")\n",
    "test = pd.read_csv(\"test.csv\")\n",
    "\n",
    "print(train.shape, test.shape)\n",
    "train.head()"
   ]
  },
  {
   "cell_type": "code",
   "execution_count": 4,
   "metadata": {},
   "outputs": [
    {
     "name": "stdout",
     "output_type": "stream",
     "text": [
      "id           int64\n",
      "keyword     object\n",
      "location    object\n",
      "text        object\n",
      "target       int64\n",
      "dtype: object\n"
     ]
    }
   ],
   "source": [
    "# Types of values in each column\n",
    "print(train.dtypes)"
   ]
  },
  {
   "cell_type": "code",
   "execution_count": 5,
   "metadata": {},
   "outputs": [
    {
     "name": "stdout",
     "output_type": "stream",
     "text": [
      "No way...I can't eat that shit\n",
      "Forest fire near La Ronge Sask. Canada\n"
     ]
    }
   ],
   "source": [
    "print(train[train[\"target\"] == 0][\"text\"].values[10])       # not a disaster tweet\n",
    "print(train[train[\"target\"] == 1][\"text\"].values[1])  # disaster tweet"
   ]
  },
  {
   "cell_type": "markdown",
   "metadata": {},
   "source": [
    "## 2. Data Cleaning"
   ]
  },
  {
   "cell_type": "code",
   "execution_count": 5,
   "metadata": {},
   "outputs": [
    {
     "name": "stdout",
     "output_type": "stream",
     "text": [
      "Ratio of missing values in training dataset\n",
      "missing keyword:  0.01\n",
      "missing location:  0.33 \n",
      "\n",
      "Ratio of missing values in testing dataset\n",
      "missing keyword:  0.01\n",
      "missing location:  0.34\n"
     ]
    }
   ],
   "source": [
    "# Check percentage of missing values\n",
    "print(\"Ratio of missing values in training dataset\")\n",
    "print(\"missing keyword: \", str(round(train[\"keyword\"].isnull().sum()/train.shape[0], 2)))\n",
    "print(\"missing location: \", str(round(train[\"location\"].isnull().sum()/train.shape[0], 2)), \"\\n\")\n",
    "\n",
    "print(\"Ratio of missing values in testing dataset\")\n",
    "print(\"missing keyword: \", str(round(test[\"keyword\"].isnull().sum()/test.shape[0], 2)))\n",
    "print(\"missing location: \", str(round(test[\"location\"].isnull().sum()/test.shape[0], 2)))"
   ]
  },
  {
   "cell_type": "markdown",
   "metadata": {},
   "source": [
    "=> Since the test dataset also contains missing values in 'keyword' and 'location', we will drop these columns and use 'text' column only."
   ]
  },
  {
   "cell_type": "markdown",
   "metadata": {},
   "source": [
    "## 3. Preprocessing"
   ]
  },
  {
   "cell_type": "code",
   "execution_count": 6,
   "metadata": {},
   "outputs": [
    {
     "data": {
      "text/html": [
       "<div>\n",
       "<style scoped>\n",
       "    .dataframe tbody tr th:only-of-type {\n",
       "        vertical-align: middle;\n",
       "    }\n",
       "\n",
       "    .dataframe tbody tr th {\n",
       "        vertical-align: top;\n",
       "    }\n",
       "\n",
       "    .dataframe thead th {\n",
       "        text-align: right;\n",
       "    }\n",
       "</style>\n",
       "<table border=\"1\" class=\"dataframe\">\n",
       "  <thead>\n",
       "    <tr style=\"text-align: right;\">\n",
       "      <th></th>\n",
       "      <th>id</th>\n",
       "      <th>text</th>\n",
       "      <th>target</th>\n",
       "    </tr>\n",
       "  </thead>\n",
       "  <tbody>\n",
       "    <tr>\n",
       "      <th>0</th>\n",
       "      <td>1</td>\n",
       "      <td>Our Deeds are the Reason of this #earthquake M...</td>\n",
       "      <td>1</td>\n",
       "    </tr>\n",
       "    <tr>\n",
       "      <th>1</th>\n",
       "      <td>4</td>\n",
       "      <td>Forest fire near La Ronge Sask. Canada</td>\n",
       "      <td>1</td>\n",
       "    </tr>\n",
       "    <tr>\n",
       "      <th>2</th>\n",
       "      <td>5</td>\n",
       "      <td>All residents asked to 'shelter in place' are ...</td>\n",
       "      <td>1</td>\n",
       "    </tr>\n",
       "    <tr>\n",
       "      <th>3</th>\n",
       "      <td>6</td>\n",
       "      <td>13,000 people receive #wildfires evacuation or...</td>\n",
       "      <td>1</td>\n",
       "    </tr>\n",
       "    <tr>\n",
       "      <th>4</th>\n",
       "      <td>7</td>\n",
       "      <td>Just got sent this photo from Ruby #Alaska as ...</td>\n",
       "      <td>1</td>\n",
       "    </tr>\n",
       "  </tbody>\n",
       "</table>\n",
       "</div>"
      ],
      "text/plain": [
       "   id                                               text  target\n",
       "0   1  Our Deeds are the Reason of this #earthquake M...       1\n",
       "1   4             Forest fire near La Ronge Sask. Canada       1\n",
       "2   5  All residents asked to 'shelter in place' are ...       1\n",
       "3   6  13,000 people receive #wildfires evacuation or...       1\n",
       "4   7  Just got sent this photo from Ruby #Alaska as ...       1"
      ]
     },
     "execution_count": 6,
     "metadata": {},
     "output_type": "execute_result"
    }
   ],
   "source": [
    "# Drop irrelevant columns\n",
    "train = train.drop([\"keyword\", \"location\"], axis=1)\n",
    "test = test.drop([\"keyword\", \"location\"], axis=1)\n",
    "\n",
    "train.head()"
   ]
  },
  {
   "cell_type": "code",
   "execution_count": 28,
   "metadata": {},
   "outputs": [
    {
     "name": "stdout",
     "output_type": "stream",
     "text": [
      "(5329, 2) (2284, 2)\n"
     ]
    }
   ],
   "source": [
    "# Data Split\n",
    "X_train, X_test, y_train, y_test = train_test_split(train.loc[:, \"id\":\"text\"], train[\"target\"], \n",
    "                                    test_size=0.3, random_state=0, stratify=train[\"target\"])\n",
    "\n",
    "print(X_train.shape, X_test.shape)"
   ]
  },
  {
   "cell_type": "code",
   "execution_count": 31,
   "metadata": {},
   "outputs": [
    {
     "data": {
      "text/plain": [
       "4812    6849\n",
       "2080    2988\n",
       "652      944\n",
       "3528    5043\n",
       "3007    4321\n",
       "Name: id, dtype: int64"
      ]
     },
     "execution_count": 31,
     "metadata": {},
     "output_type": "execute_result"
    }
   ],
   "source": [
    "# Store \"id\"\n",
    "id_train = X_train[\"id\"]\n",
    "id_test = X_test[\"id\"]\n",
    "id_train.head()"
   ]
  },
  {
   "cell_type": "code",
   "execution_count": 63,
   "metadata": {},
   "outputs": [],
   "source": [
    "from nltk.tokenize import sent_tokenize, word_tokenize\n",
    "import warnings\n",
    " \n",
    "warnings.filterwarnings(action = 'ignore')\n",
    " \n",
    "import gensim\n",
    "from gensim.models import Word2Vec"
   ]
  },
  {
   "cell_type": "code",
   "execution_count": 75,
   "metadata": {},
   "outputs": [
    {
     "data": {
      "text/plain": [
       "4812    @samanthaturne19 It was... Nagaski another act...\n",
       "2080            IS ROSS DEAD NOOOOOOOOOOOO @MikeParrActor\n",
       "652     My hair is poverty at the moment need to get a...\n",
       "3528    DK Eyewitness Travel Guide: Denmark: travel gu...\n",
       "3007    Good way to end the day!!! Geyser plus dust st...\n",
       "                              ...                        \n",
       "7248    Slightly doesn't help that he has Suh and Wake...\n",
       "7606    Suicide bomber kills 15 in Saudi security site...\n",
       "1885            BHAVANA'S MOM HAS CRUSHED EVERYONE'S SOUL\n",
       "3865    @AWickedAssassin want to burst into flames! *A...\n",
       "3397    If Ryan doesn't release new music soon I might...\n",
       "Name: text, Length: 5329, dtype: object"
      ]
     },
     "execution_count": 75,
     "metadata": {},
     "output_type": "execute_result"
    }
   ],
   "source": [
    "X_train[\"text\"]"
   ]
  },
  {
   "cell_type": "code",
   "execution_count": 113,
   "metadata": {},
   "outputs": [],
   "source": [
    "# Get a set of stopwords\n",
    "stops = set(stopwords.words('english'))\n",
    "\n",
    "# Iterate through each sentence in the file\n",
    "words= []\n",
    "\n",
    "for n in range(X_train[\"text\"].size):\n",
    "    \n",
    "    for i in sent_tokenize(X_train[\"text\"].iat[n,]):\n",
    "        temp = []\n",
    "\n",
    "    # Tokenize the sentence into words\n",
    "        for j in word_tokenize(i):\n",
    "            # Remove stopwords\n",
    "            if j not in stops:\n",
    "                temp.append(j.lower())\n",
    " \n",
    "        words.append(temp)\n",
    " "
   ]
  },
  {
   "cell_type": "code",
   "execution_count": 114,
   "metadata": {},
   "outputs": [],
   "source": [
    "# Create CBOW model\n",
    "model1 = gensim.models.Word2Vec(words, min_count = 1, vector_size = 100, window = 5)\n",
    " \n",
    "# Create Skip Gram model\n",
    "model2 = gensim.models.Word2Vec(words, min_count = 1, vector_size = 100, window = 5, sg = 1)"
   ]
  },
  {
   "cell_type": "code",
   "execution_count": 115,
   "metadata": {},
   "outputs": [
    {
     "data": {
      "text/plain": [
       "(37346701, 53788100)"
      ]
     },
     "execution_count": 115,
     "metadata": {},
     "output_type": "execute_result"
    }
   ],
   "source": [
    "# Training models\n",
    "model1.train(X_train[\"text\"].to_list(), total_examples=X_train[\"text\"].size, epochs=100)\n",
    "model2.train(X_train[\"text\"].to_list(), total_examples=X_train[\"text\"].size, epochs=100)"
   ]
  },
  {
   "cell_type": "code",
   "execution_count": 116,
   "metadata": {},
   "outputs": [
    {
     "name": "stdout",
     "output_type": "stream",
     "text": [
      "(100,)\n"
     ]
    },
    {
     "data": {
      "text/plain": [
       "array([-0.17201994,  0.82599264,  0.58110154,  0.3490145 , -0.28057832,\n",
       "       -1.1681844 ,  0.44197983,  1.790733  , -1.2729242 , -0.6335378 ,\n",
       "       -0.13763733, -1.2766062 , -0.16552702,  0.42283386,  0.2751394 ,\n",
       "       -0.8845238 ,  0.18137072, -0.6120297 , -0.20170568, -2.229894  ,\n",
       "        0.22716671,  0.18639818,  0.9284154 , -0.50896245,  0.28298327,\n",
       "        0.10083327, -0.6911999 , -0.11858609, -1.2433386 ,  0.56876373,\n",
       "        1.140331  , -0.3805148 ,  0.46324775, -0.928187  , -0.2536032 ,\n",
       "        0.5832042 ,  0.2582204 , -0.13615142,  0.06893081, -1.023462  ,\n",
       "        0.09030799, -0.65809274, -1.0658691 ,  0.40708056,  0.66919833,\n",
       "       -0.1484067 , -0.6610274 ,  0.2436525 ,  0.26382402,  0.3381059 ,\n",
       "        0.3667162 , -0.73021173, -0.4292996 , -0.31083685, -0.5745647 ,\n",
       "        0.30175442,  0.6702341 , -0.47154623, -1.026466  ,  0.1862987 ,\n",
       "        0.2066574 , -0.02472978,  0.46969846, -0.23072624, -1.1395023 ,\n",
       "        1.1983379 ,  0.47830915,  0.31281734, -0.81926775,  0.78466916,\n",
       "       -0.32641232,  0.7816349 ,  0.9625873 , -0.04925969,  0.8260574 ,\n",
       "        0.8507862 ,  0.17846562,  0.11599674, -0.38996017,  0.48452523,\n",
       "       -0.47403342, -0.81234574, -0.11217736,  0.9416202 , -0.11853006,\n",
       "       -0.5732341 ,  0.25006703,  0.6738227 ,  0.80518776,  0.78412664,\n",
       "        0.6283913 ,  0.90311617,  0.36027324, -0.33507   ,  1.5076463 ,\n",
       "        0.5630162 ,  0.6985337 , -0.90309507,  0.19881703,  0.17127523],\n",
       "      dtype=float32)"
      ]
     },
     "execution_count": 116,
     "metadata": {},
     "output_type": "execute_result"
    }
   ],
   "source": [
    "vector1 = model1.wv['the']\n",
    "print(vector1.shape)\n",
    "vector1"
   ]
  },
  {
   "cell_type": "code",
   "execution_count": 122,
   "metadata": {},
   "outputs": [
    {
     "name": "stdout",
     "output_type": "stream",
     "text": [
      "(100,)\n"
     ]
    },
    {
     "data": {
      "text/plain": [
       "array([-0.0033361 ,  0.4520584 ,  0.2187106 ,  0.31054527, -0.31159282,\n",
       "       -0.5085897 ,  0.266268  ,  0.79013944, -0.4125841 , -0.15072934,\n",
       "       -0.04414058, -0.57939327, -0.08941706,  0.21201734,  0.2507787 ,\n",
       "       -0.4503934 ,  0.20949388, -0.05029261, -0.18786691, -0.99376774,\n",
       "        0.09160941,  0.0572008 ,  0.5907578 , -0.32889533,  0.13718675,\n",
       "       -0.09445567, -0.5245663 , -0.08533747, -0.13559638,  0.23782782,\n",
       "        0.5938129 , -0.24731852,  0.01723937, -0.37664297, -0.13251756,\n",
       "        0.22409038,  0.08590531,  0.1410172 ,  0.06434929, -0.49022636,\n",
       "       -0.38383722, -0.49251467, -0.509529  ,  0.31234667,  0.01470367,\n",
       "       -0.19196014, -0.37103054,  0.00327496, -0.12410864,  0.28737208,\n",
       "        0.11301386, -0.7354538 , -0.64497966, -0.0422104 , -0.17666326,\n",
       "        0.20426291,  0.43987328, -0.2825645 , -0.550254  ,  0.10979778,\n",
       "        0.08163922,  0.10014983,  0.2590056 ,  0.1313418 , -0.4210227 ,\n",
       "        0.75438267,  0.17566605,  0.09868337, -0.58332705,  0.50149655,\n",
       "       -0.3635269 ,  0.44647008,  0.32811692,  0.19805092,  0.3883874 ,\n",
       "        0.18317564, -0.10622685,  0.07381565, -0.17493019,  0.28096685,\n",
       "       -0.02187883, -0.35049373, -0.33261377,  0.49845633,  0.19332178,\n",
       "       -0.02869526,  0.04569243,  0.12221134,  0.48374018, -0.02033274,\n",
       "        0.2483527 ,  0.2522547 ,  0.21725677, -0.03266937,  0.97010547,\n",
       "        0.25120792,  0.49572384, -0.64569634, -0.0642233 ,  0.24286382],\n",
       "      dtype=float32)"
      ]
     },
     "execution_count": 122,
     "metadata": {},
     "output_type": "execute_result"
    }
   ],
   "source": [
    "vector2 = model2.wv['a']\n",
    "print(vector2.shape)\n",
    "vector2"
   ]
  },
  {
   "cell_type": "code",
   "execution_count": 136,
   "metadata": {},
   "outputs": [],
   "source": [
    "## Validate\n",
    "\n",
    "# words # list of words (stopwords are removed)\n",
    "# stops # list of stopwords\n",
    "# model1.wv['a'] # vetor for the word 'a'\n",
    "\n",
    "vect_pred1 = np.zeros(X_train.shape[1])\n",
    "# vect_pred2 = np.zeros(X_train.shape[1])\n",
    "\n",
    "\n",
    "for n in range(X_train[\"text\"].size):   # each sentence\n",
    "    vector_for_sentence = np.zeros(100)\n",
    "    for i in sent_tokenize(X_train[\"text\"].iat[n,]):    # each word\n",
    "        if i in words:\n",
    "            vector_for_sentence += model1.wv[i]         # sum of vectors\n",
    "    vect_pred1[n] = vector_for_sentence"
   ]
  },
  {
   "cell_type": "code",
   "execution_count": null,
   "metadata": {},
   "outputs": [],
   "source": [
    "print(vect_pred1.shape)\n",
    "vect_pred1"
   ]
  },
  {
   "cell_type": "code",
   "execution_count": null,
   "metadata": {},
   "outputs": [],
   "source": [
    "# Reshape\n",
    "Xtr = vect_pred1.reshape(vect_pred1.shape[0], vect_pred1.shape[1]*Xtr.shape[2])\n",
    "Xtr = np.hstack([np.ones((vect_pred1.shape[0],1)), vect_pred1[:,:] ])   # add intercepts(ones)\n",
    "Ytr = y_train.reshape(y_train.shape[0], 1) \n",
    "print(\"Xtr: \" + str(Xtr.shape), \" Ytr: \"+ str(Ytr.shape))"
   ]
  },
  {
   "cell_type": "code",
   "execution_count": null,
   "metadata": {},
   "outputs": [],
   "source": [
    "# Classification (Logistic Regression)\n",
    "\n",
    "# Make a prediction with weights\n",
    "def predict(x, w):\n",
    "\tz = w.dot(x)\n",
    "\treturn 1.0 / (1.0 + exp(-z))\n",
    "\n",
    "# Estimate coefficients using stochastic gradient descent\n",
    "def train_weights(X, y, l_epoch_span, epoch_size, weights, threshold=0.002):\n",
    "  n, m    = X.shape   # n= , m=\n",
    "  batch_size = 25\n",
    "\n",
    "  for batch in range(epoch_size):  # batch = 0, 1, , ..., 49\n",
    "    l_rate = l_epoch_span[batch]  # learning rate\n",
    "\n",
    "    # Randomly select 25 numbers\n",
    "    arr = np.arange(n)\n",
    "    indices = np.random.choice(arr, size=batch_size)  \n",
    "\n",
    "    sum_error = 0   # summed errors from each batch\n",
    "    for b in range(batch_size):  # b = 0, 1, ..., 24\n",
    "      ind = indices[b]\n",
    "      prediction = predict(X[ind,:], weights)\n",
    "      error = abs(prediction - y[ind])\n",
    "      sum_error += error\n",
    "      weights = weights - 1.00 * l_rate * (sum_error / batch_size) * X[ind,:]\n",
    "\n",
    "    print('sum_error at batch #' + str(batch) + ' is ', str(sum_error))\n",
    "  \n",
    "    if sum_error<threshold:\n",
    "      break\n",
    "\n",
    "  return weights"
   ]
  },
  {
   "cell_type": "code",
   "execution_count": null,
   "metadata": {},
   "outputs": [],
   "source": [
    "epoch_size = 50\n",
    "n_span = np.arange(epoch_size)\n",
    "l_epoch_span = 1/((1+(2*n_span))**3)    # list of learning rates\n",
    "init_weights = np.zeros((1,Xtr.shape[1]))\n",
    "weights = train_weights(Xtr, Ytr, l_epoch_span, epoch_size, init_weights) "
   ]
  },
  {
   "cell_type": "code",
   "execution_count": null,
   "metadata": {},
   "outputs": [],
   "source": [
    "# Validate\n",
    "for i in range(Xtr.shape[0]):\n",
    "    Ypred1 = predict(Xtr[i,:], weights)\n",
    "\n",
    "print(Ypred1.size, type(Ypred1))"
   ]
  },
  {
   "cell_type": "markdown",
   "metadata": {},
   "source": [
    "_____"
   ]
  },
  {
   "cell_type": "code",
   "execution_count": 37,
   "metadata": {},
   "outputs": [
    {
     "name": "stdout",
     "output_type": "stream",
     "text": [
      "(5329, 16619)\n"
     ]
    }
   ],
   "source": [
    "# Convert a collection of text documents to a matrix of token counts\n",
    "count_vectorizer = CountVectorizer(stop_words=\"english\")\n",
    "count_train = count_vectorizer.fit_transform(X_train[\"text\"].values)\n",
    "count_test = count_vectorizer.transform(X_test[\"text\"].values)\n",
    "\n",
    "print(count_train.shape, count_train[10].shape)"
   ]
  },
  {
   "cell_type": "code",
   "execution_count": 91,
   "metadata": {},
   "outputs": [
    {
     "data": {
      "text/plain": [
       "frozenset({'a',\n",
       "           'about',\n",
       "           'above',\n",
       "           'across',\n",
       "           'after',\n",
       "           'afterwards',\n",
       "           'again',\n",
       "           'against',\n",
       "           'all',\n",
       "           'almost',\n",
       "           'alone',\n",
       "           'along',\n",
       "           'already',\n",
       "           'also',\n",
       "           'although',\n",
       "           'always',\n",
       "           'am',\n",
       "           'among',\n",
       "           'amongst',\n",
       "           'amoungst',\n",
       "           'amount',\n",
       "           'an',\n",
       "           'and',\n",
       "           'another',\n",
       "           'any',\n",
       "           'anyhow',\n",
       "           'anyone',\n",
       "           'anything',\n",
       "           'anyway',\n",
       "           'anywhere',\n",
       "           'are',\n",
       "           'around',\n",
       "           'as',\n",
       "           'at',\n",
       "           'back',\n",
       "           'be',\n",
       "           'became',\n",
       "           'because',\n",
       "           'become',\n",
       "           'becomes',\n",
       "           'becoming',\n",
       "           'been',\n",
       "           'before',\n",
       "           'beforehand',\n",
       "           'behind',\n",
       "           'being',\n",
       "           'below',\n",
       "           'beside',\n",
       "           'besides',\n",
       "           'between',\n",
       "           'beyond',\n",
       "           'bill',\n",
       "           'both',\n",
       "           'bottom',\n",
       "           'but',\n",
       "           'by',\n",
       "           'call',\n",
       "           'can',\n",
       "           'cannot',\n",
       "           'cant',\n",
       "           'co',\n",
       "           'con',\n",
       "           'could',\n",
       "           'couldnt',\n",
       "           'cry',\n",
       "           'de',\n",
       "           'describe',\n",
       "           'detail',\n",
       "           'do',\n",
       "           'done',\n",
       "           'down',\n",
       "           'due',\n",
       "           'during',\n",
       "           'each',\n",
       "           'eg',\n",
       "           'eight',\n",
       "           'either',\n",
       "           'eleven',\n",
       "           'else',\n",
       "           'elsewhere',\n",
       "           'empty',\n",
       "           'enough',\n",
       "           'etc',\n",
       "           'even',\n",
       "           'ever',\n",
       "           'every',\n",
       "           'everyone',\n",
       "           'everything',\n",
       "           'everywhere',\n",
       "           'except',\n",
       "           'few',\n",
       "           'fifteen',\n",
       "           'fifty',\n",
       "           'fill',\n",
       "           'find',\n",
       "           'fire',\n",
       "           'first',\n",
       "           'five',\n",
       "           'for',\n",
       "           'former',\n",
       "           'formerly',\n",
       "           'forty',\n",
       "           'found',\n",
       "           'four',\n",
       "           'from',\n",
       "           'front',\n",
       "           'full',\n",
       "           'further',\n",
       "           'get',\n",
       "           'give',\n",
       "           'go',\n",
       "           'had',\n",
       "           'has',\n",
       "           'hasnt',\n",
       "           'have',\n",
       "           'he',\n",
       "           'hence',\n",
       "           'her',\n",
       "           'here',\n",
       "           'hereafter',\n",
       "           'hereby',\n",
       "           'herein',\n",
       "           'hereupon',\n",
       "           'hers',\n",
       "           'herself',\n",
       "           'him',\n",
       "           'himself',\n",
       "           'his',\n",
       "           'how',\n",
       "           'however',\n",
       "           'hundred',\n",
       "           'i',\n",
       "           'ie',\n",
       "           'if',\n",
       "           'in',\n",
       "           'inc',\n",
       "           'indeed',\n",
       "           'interest',\n",
       "           'into',\n",
       "           'is',\n",
       "           'it',\n",
       "           'its',\n",
       "           'itself',\n",
       "           'keep',\n",
       "           'last',\n",
       "           'latter',\n",
       "           'latterly',\n",
       "           'least',\n",
       "           'less',\n",
       "           'ltd',\n",
       "           'made',\n",
       "           'many',\n",
       "           'may',\n",
       "           'me',\n",
       "           'meanwhile',\n",
       "           'might',\n",
       "           'mill',\n",
       "           'mine',\n",
       "           'more',\n",
       "           'moreover',\n",
       "           'most',\n",
       "           'mostly',\n",
       "           'move',\n",
       "           'much',\n",
       "           'must',\n",
       "           'my',\n",
       "           'myself',\n",
       "           'name',\n",
       "           'namely',\n",
       "           'neither',\n",
       "           'never',\n",
       "           'nevertheless',\n",
       "           'next',\n",
       "           'nine',\n",
       "           'no',\n",
       "           'nobody',\n",
       "           'none',\n",
       "           'noone',\n",
       "           'nor',\n",
       "           'not',\n",
       "           'nothing',\n",
       "           'now',\n",
       "           'nowhere',\n",
       "           'of',\n",
       "           'off',\n",
       "           'often',\n",
       "           'on',\n",
       "           'once',\n",
       "           'one',\n",
       "           'only',\n",
       "           'onto',\n",
       "           'or',\n",
       "           'other',\n",
       "           'others',\n",
       "           'otherwise',\n",
       "           'our',\n",
       "           'ours',\n",
       "           'ourselves',\n",
       "           'out',\n",
       "           'over',\n",
       "           'own',\n",
       "           'part',\n",
       "           'per',\n",
       "           'perhaps',\n",
       "           'please',\n",
       "           'put',\n",
       "           'rather',\n",
       "           're',\n",
       "           'same',\n",
       "           'see',\n",
       "           'seem',\n",
       "           'seemed',\n",
       "           'seeming',\n",
       "           'seems',\n",
       "           'serious',\n",
       "           'several',\n",
       "           'she',\n",
       "           'should',\n",
       "           'show',\n",
       "           'side',\n",
       "           'since',\n",
       "           'sincere',\n",
       "           'six',\n",
       "           'sixty',\n",
       "           'so',\n",
       "           'some',\n",
       "           'somehow',\n",
       "           'someone',\n",
       "           'something',\n",
       "           'sometime',\n",
       "           'sometimes',\n",
       "           'somewhere',\n",
       "           'still',\n",
       "           'such',\n",
       "           'system',\n",
       "           'take',\n",
       "           'ten',\n",
       "           'than',\n",
       "           'that',\n",
       "           'the',\n",
       "           'their',\n",
       "           'them',\n",
       "           'themselves',\n",
       "           'then',\n",
       "           'thence',\n",
       "           'there',\n",
       "           'thereafter',\n",
       "           'thereby',\n",
       "           'therefore',\n",
       "           'therein',\n",
       "           'thereupon',\n",
       "           'these',\n",
       "           'they',\n",
       "           'thick',\n",
       "           'thin',\n",
       "           'third',\n",
       "           'this',\n",
       "           'those',\n",
       "           'though',\n",
       "           'three',\n",
       "           'through',\n",
       "           'throughout',\n",
       "           'thru',\n",
       "           'thus',\n",
       "           'to',\n",
       "           'together',\n",
       "           'too',\n",
       "           'top',\n",
       "           'toward',\n",
       "           'towards',\n",
       "           'twelve',\n",
       "           'twenty',\n",
       "           'two',\n",
       "           'un',\n",
       "           'under',\n",
       "           'until',\n",
       "           'up',\n",
       "           'upon',\n",
       "           'us',\n",
       "           'very',\n",
       "           'via',\n",
       "           'was',\n",
       "           'we',\n",
       "           'well',\n",
       "           'were',\n",
       "           'what',\n",
       "           'whatever',\n",
       "           'when',\n",
       "           'whence',\n",
       "           'whenever',\n",
       "           'where',\n",
       "           'whereafter',\n",
       "           'whereas',\n",
       "           'whereby',\n",
       "           'wherein',\n",
       "           'whereupon',\n",
       "           'wherever',\n",
       "           'whether',\n",
       "           'which',\n",
       "           'while',\n",
       "           'whither',\n",
       "           'who',\n",
       "           'whoever',\n",
       "           'whole',\n",
       "           'whom',\n",
       "           'whose',\n",
       "           'why',\n",
       "           'will',\n",
       "           'with',\n",
       "           'within',\n",
       "           'without',\n",
       "           'would',\n",
       "           'yet',\n",
       "           'you',\n",
       "           'your',\n",
       "           'yours',\n",
       "           'yourself',\n",
       "           'yourselves'})"
      ]
     },
     "execution_count": 91,
     "metadata": {},
     "output_type": "execute_result"
    }
   ],
   "source": [
    "count_vectorizer.get_stop_words()"
   ]
  },
  {
   "cell_type": "code",
   "execution_count": 47,
   "metadata": {},
   "outputs": [
    {
     "data": {
      "text/plain": [
       "<1x16619 sparse matrix of type '<class 'numpy.int64'>'\n",
       "\twith 12 stored elements in Compressed Sparse Row format>"
      ]
     },
     "execution_count": 47,
     "metadata": {},
     "output_type": "execute_result"
    }
   ],
   "source": [
    "count_train[5000]"
   ]
  },
  {
   "cell_type": "markdown",
   "metadata": {},
   "source": [
    "## 4. "
   ]
  },
  {
   "cell_type": "markdown",
   "metadata": {},
   "source": [
    "text preprocessing\n",
    "- Word2Vec\n",
    "- tweettoeknizer \n",
    "- tokenize -> lower -> Counter() and .most_common()\n",
    "- remove stop words stopwords.word('english')? english_stops?"
   ]
  },
  {
   "cell_type": "code",
   "execution_count": null,
   "metadata": {},
   "outputs": [],
   "source": []
  }
 ],
 "metadata": {
  "kernelspec": {
   "display_name": "Python 3.8.9 64-bit",
   "language": "python",
   "name": "python3"
  },
  "language_info": {
   "codemirror_mode": {
    "name": "ipython",
    "version": 3
   },
   "file_extension": ".py",
   "mimetype": "text/x-python",
   "name": "python",
   "nbconvert_exporter": "python",
   "pygments_lexer": "ipython3",
   "version": "3.8.9"
  },
  "orig_nbformat": 4,
  "vscode": {
   "interpreter": {
    "hash": "31f2aee4e71d21fbe5cf8b01ff0e069b9275f58929596ceb00d14d90e3e16cd6"
   }
  }
 },
 "nbformat": 4,
 "nbformat_minor": 2
}
