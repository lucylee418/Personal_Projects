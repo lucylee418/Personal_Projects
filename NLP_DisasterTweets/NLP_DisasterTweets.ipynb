{
 "cells": [
  {
   "cell_type": "markdown",
   "metadata": {},
   "source": [
    "Link : https://www.kaggle.com/competitions/nlp-getting-started/overview/evaluation"
   ]
  },
  {
   "cell_type": "markdown",
   "metadata": {},
   "source": [
    "## Blue Print"
   ]
  },
  {
   "cell_type": "markdown",
   "metadata": {},
   "source": [
    "1. Check dataset\n",
    "2. Cleaning\n",
    "3. Preprocessing\n",
    "4. Data Split (using stratified sampling)"
   ]
  },
  {
   "cell_type": "markdown",
   "metadata": {},
   "source": [
    "## Error Function"
   ]
  },
  {
   "cell_type": "markdown",
   "metadata": {},
   "source": [
    "$F_1 = 2\\frac{precision * recall}{precision + recall}$ (1 is the best, 0 is the worst) where:\n",
    " \n",
    "precision = $\\frac{TP}{TP+FP}$, recall = $\\frac{TP}{TP+FN}$"
   ]
  },
  {
   "cell_type": "code",
   "execution_count": 1,
   "metadata": {},
   "outputs": [],
   "source": [
    "# sklearn.metrics.f1_score(y_true, y_pred, *, labels=None, pos_label=1, average='binary', \n",
    "# sample_weight=None, zero_division='warn')\n",
    "# https://scikit-learn.org/stable/modules/generated/sklearn.metrics.f1_score.html"
   ]
  },
  {
   "cell_type": "markdown",
   "metadata": {},
   "source": [
    "## 1. Data Investigation"
   ]
  },
  {
   "cell_type": "code",
   "execution_count": 1,
   "metadata": {},
   "outputs": [],
   "source": [
    "import numpy as np\n",
    "import pandas as pd\n",
    "from sklearn import feature_extraction, linear_model, model_selection, preprocessing\n",
    "from sklearn.model_selection import train_test_split\n",
    "from sklearn.feature_extraction.text import CountVectorizer\n",
    "from sklearn.metrics import f1_score\n",
    "from nltk.corpus import stopwords"
   ]
  },
  {
   "cell_type": "code",
   "execution_count": 2,
   "metadata": {},
   "outputs": [
    {
     "name": "stdout",
     "output_type": "stream",
     "text": [
      "(7613, 5) (3263, 4)\n"
     ]
    },
    {
     "data": {
      "text/html": [
       "<div>\n",
       "<style scoped>\n",
       "    .dataframe tbody tr th:only-of-type {\n",
       "        vertical-align: middle;\n",
       "    }\n",
       "\n",
       "    .dataframe tbody tr th {\n",
       "        vertical-align: top;\n",
       "    }\n",
       "\n",
       "    .dataframe thead th {\n",
       "        text-align: right;\n",
       "    }\n",
       "</style>\n",
       "<table border=\"1\" class=\"dataframe\">\n",
       "  <thead>\n",
       "    <tr style=\"text-align: right;\">\n",
       "      <th></th>\n",
       "      <th>id</th>\n",
       "      <th>keyword</th>\n",
       "      <th>location</th>\n",
       "      <th>text</th>\n",
       "      <th>target</th>\n",
       "    </tr>\n",
       "  </thead>\n",
       "  <tbody>\n",
       "    <tr>\n",
       "      <th>0</th>\n",
       "      <td>1</td>\n",
       "      <td>NaN</td>\n",
       "      <td>NaN</td>\n",
       "      <td>Our Deeds are the Reason of this #earthquake M...</td>\n",
       "      <td>1</td>\n",
       "    </tr>\n",
       "    <tr>\n",
       "      <th>1</th>\n",
       "      <td>4</td>\n",
       "      <td>NaN</td>\n",
       "      <td>NaN</td>\n",
       "      <td>Forest fire near La Ronge Sask. Canada</td>\n",
       "      <td>1</td>\n",
       "    </tr>\n",
       "    <tr>\n",
       "      <th>2</th>\n",
       "      <td>5</td>\n",
       "      <td>NaN</td>\n",
       "      <td>NaN</td>\n",
       "      <td>All residents asked to 'shelter in place' are ...</td>\n",
       "      <td>1</td>\n",
       "    </tr>\n",
       "    <tr>\n",
       "      <th>3</th>\n",
       "      <td>6</td>\n",
       "      <td>NaN</td>\n",
       "      <td>NaN</td>\n",
       "      <td>13,000 people receive #wildfires evacuation or...</td>\n",
       "      <td>1</td>\n",
       "    </tr>\n",
       "    <tr>\n",
       "      <th>4</th>\n",
       "      <td>7</td>\n",
       "      <td>NaN</td>\n",
       "      <td>NaN</td>\n",
       "      <td>Just got sent this photo from Ruby #Alaska as ...</td>\n",
       "      <td>1</td>\n",
       "    </tr>\n",
       "  </tbody>\n",
       "</table>\n",
       "</div>"
      ],
      "text/plain": [
       "   id keyword location                                               text  \\\n",
       "0   1     NaN      NaN  Our Deeds are the Reason of this #earthquake M...   \n",
       "1   4     NaN      NaN             Forest fire near La Ronge Sask. Canada   \n",
       "2   5     NaN      NaN  All residents asked to 'shelter in place' are ...   \n",
       "3   6     NaN      NaN  13,000 people receive #wildfires evacuation or...   \n",
       "4   7     NaN      NaN  Just got sent this photo from Ruby #Alaska as ...   \n",
       "\n",
       "   target  \n",
       "0       1  \n",
       "1       1  \n",
       "2       1  \n",
       "3       1  \n",
       "4       1  "
      ]
     },
     "execution_count": 2,
     "metadata": {},
     "output_type": "execute_result"
    }
   ],
   "source": [
    "# Load dataset\n",
    "train = pd.read_csv(\"train.csv\")\n",
    "test = pd.read_csv(\"test.csv\")\n",
    "\n",
    "print(train.shape, test.shape)\n",
    "train.head()"
   ]
  },
  {
   "cell_type": "code",
   "execution_count": 3,
   "metadata": {},
   "outputs": [
    {
     "name": "stdout",
     "output_type": "stream",
     "text": [
      "id           int64\n",
      "keyword     object\n",
      "location    object\n",
      "text        object\n",
      "target       int64\n",
      "dtype: object\n"
     ]
    }
   ],
   "source": [
    "# Types of values in each column\n",
    "print(train.dtypes)"
   ]
  },
  {
   "cell_type": "code",
   "execution_count": 4,
   "metadata": {},
   "outputs": [
    {
     "name": "stdout",
     "output_type": "stream",
     "text": [
      "No way...I can't eat that shit\n",
      "Forest fire near La Ronge Sask. Canada\n"
     ]
    }
   ],
   "source": [
    "print(train[train[\"target\"] == 0][\"text\"].values[10])       # not a disaster tweet\n",
    "print(train[train[\"target\"] == 1][\"text\"].values[1])  # disaster tweet"
   ]
  },
  {
   "cell_type": "markdown",
   "metadata": {},
   "source": [
    "## 2. Data Cleaning"
   ]
  },
  {
   "cell_type": "code",
   "execution_count": 5,
   "metadata": {},
   "outputs": [
    {
     "name": "stdout",
     "output_type": "stream",
     "text": [
      "Ratio of missing values in training dataset\n",
      "missing keyword:  0.01\n",
      "missing location:  0.33 \n",
      "\n",
      "Ratio of missing values in testing dataset\n",
      "missing keyword:  0.01\n",
      "missing location:  0.34\n"
     ]
    }
   ],
   "source": [
    "# Check percentage of missing values\n",
    "print(\"Ratio of missing values in training dataset\")\n",
    "print(\"missing keyword: \", str(round(train[\"keyword\"].isnull().sum()/train.shape[0], 2)))\n",
    "print(\"missing location: \", str(round(train[\"location\"].isnull().sum()/train.shape[0], 2)), \"\\n\")\n",
    "\n",
    "print(\"Ratio of missing values in testing dataset\")\n",
    "print(\"missing keyword: \", str(round(test[\"keyword\"].isnull().sum()/test.shape[0], 2)))\n",
    "print(\"missing location: \", str(round(test[\"location\"].isnull().sum()/test.shape[0], 2)))"
   ]
  },
  {
   "cell_type": "markdown",
   "metadata": {},
   "source": [
    "=> Since the test dataset also contains missing values in 'keyword' and 'location', we will drop these columns and use 'text' column only."
   ]
  },
  {
   "cell_type": "markdown",
   "metadata": {},
   "source": [
    "## 3. Preprocessing"
   ]
  },
  {
   "cell_type": "code",
   "execution_count": 6,
   "metadata": {},
   "outputs": [
    {
     "data": {
      "text/html": [
       "<div>\n",
       "<style scoped>\n",
       "    .dataframe tbody tr th:only-of-type {\n",
       "        vertical-align: middle;\n",
       "    }\n",
       "\n",
       "    .dataframe tbody tr th {\n",
       "        vertical-align: top;\n",
       "    }\n",
       "\n",
       "    .dataframe thead th {\n",
       "        text-align: right;\n",
       "    }\n",
       "</style>\n",
       "<table border=\"1\" class=\"dataframe\">\n",
       "  <thead>\n",
       "    <tr style=\"text-align: right;\">\n",
       "      <th></th>\n",
       "      <th>id</th>\n",
       "      <th>text</th>\n",
       "      <th>target</th>\n",
       "    </tr>\n",
       "  </thead>\n",
       "  <tbody>\n",
       "    <tr>\n",
       "      <th>0</th>\n",
       "      <td>1</td>\n",
       "      <td>Our Deeds are the Reason of this #earthquake M...</td>\n",
       "      <td>1</td>\n",
       "    </tr>\n",
       "    <tr>\n",
       "      <th>1</th>\n",
       "      <td>4</td>\n",
       "      <td>Forest fire near La Ronge Sask. Canada</td>\n",
       "      <td>1</td>\n",
       "    </tr>\n",
       "    <tr>\n",
       "      <th>2</th>\n",
       "      <td>5</td>\n",
       "      <td>All residents asked to 'shelter in place' are ...</td>\n",
       "      <td>1</td>\n",
       "    </tr>\n",
       "    <tr>\n",
       "      <th>3</th>\n",
       "      <td>6</td>\n",
       "      <td>13,000 people receive #wildfires evacuation or...</td>\n",
       "      <td>1</td>\n",
       "    </tr>\n",
       "    <tr>\n",
       "      <th>4</th>\n",
       "      <td>7</td>\n",
       "      <td>Just got sent this photo from Ruby #Alaska as ...</td>\n",
       "      <td>1</td>\n",
       "    </tr>\n",
       "  </tbody>\n",
       "</table>\n",
       "</div>"
      ],
      "text/plain": [
       "   id                                               text  target\n",
       "0   1  Our Deeds are the Reason of this #earthquake M...       1\n",
       "1   4             Forest fire near La Ronge Sask. Canada       1\n",
       "2   5  All residents asked to 'shelter in place' are ...       1\n",
       "3   6  13,000 people receive #wildfires evacuation or...       1\n",
       "4   7  Just got sent this photo from Ruby #Alaska as ...       1"
      ]
     },
     "execution_count": 6,
     "metadata": {},
     "output_type": "execute_result"
    }
   ],
   "source": [
    "# Drop irrelevant columns\n",
    "train = train.drop([\"keyword\", \"location\"], axis=1)\n",
    "test = test.drop([\"keyword\", \"location\"], axis=1)\n",
    "\n",
    "train.head()"
   ]
  },
  {
   "cell_type": "code",
   "execution_count": 172,
   "metadata": {},
   "outputs": [
    {
     "data": {
      "text/html": [
       "<div>\n",
       "<style scoped>\n",
       "    .dataframe tbody tr th:only-of-type {\n",
       "        vertical-align: middle;\n",
       "    }\n",
       "\n",
       "    .dataframe tbody tr th {\n",
       "        vertical-align: top;\n",
       "    }\n",
       "\n",
       "    .dataframe thead th {\n",
       "        text-align: right;\n",
       "    }\n",
       "</style>\n",
       "<table border=\"1\" class=\"dataframe\">\n",
       "  <thead>\n",
       "    <tr style=\"text-align: right;\">\n",
       "      <th></th>\n",
       "      <th>target</th>\n",
       "    </tr>\n",
       "  </thead>\n",
       "  <tbody>\n",
       "    <tr>\n",
       "      <th>0</th>\n",
       "      <td>1</td>\n",
       "    </tr>\n",
       "    <tr>\n",
       "      <th>1</th>\n",
       "      <td>1</td>\n",
       "    </tr>\n",
       "    <tr>\n",
       "      <th>2</th>\n",
       "      <td>1</td>\n",
       "    </tr>\n",
       "    <tr>\n",
       "      <th>3</th>\n",
       "      <td>1</td>\n",
       "    </tr>\n",
       "    <tr>\n",
       "      <th>4</th>\n",
       "      <td>1</td>\n",
       "    </tr>\n",
       "    <tr>\n",
       "      <th>...</th>\n",
       "      <td>...</td>\n",
       "    </tr>\n",
       "    <tr>\n",
       "      <th>7608</th>\n",
       "      <td>1</td>\n",
       "    </tr>\n",
       "    <tr>\n",
       "      <th>7609</th>\n",
       "      <td>1</td>\n",
       "    </tr>\n",
       "    <tr>\n",
       "      <th>7610</th>\n",
       "      <td>1</td>\n",
       "    </tr>\n",
       "    <tr>\n",
       "      <th>7611</th>\n",
       "      <td>1</td>\n",
       "    </tr>\n",
       "    <tr>\n",
       "      <th>7612</th>\n",
       "      <td>1</td>\n",
       "    </tr>\n",
       "  </tbody>\n",
       "</table>\n",
       "<p>7613 rows × 1 columns</p>\n",
       "</div>"
      ],
      "text/plain": [
       "      target\n",
       "0          1\n",
       "1          1\n",
       "2          1\n",
       "3          1\n",
       "4          1\n",
       "...      ...\n",
       "7608       1\n",
       "7609       1\n",
       "7610       1\n",
       "7611       1\n",
       "7612       1\n",
       "\n",
       "[7613 rows x 1 columns]"
      ]
     },
     "execution_count": 172,
     "metadata": {},
     "output_type": "execute_result"
    }
   ],
   "source": [
    "train.loc[:, [\"target\"]]"
   ]
  },
  {
   "cell_type": "code",
   "execution_count": 173,
   "metadata": {},
   "outputs": [
    {
     "name": "stdout",
     "output_type": "stream",
     "text": [
      "(5329, 2) (2284, 2)\n"
     ]
    }
   ],
   "source": [
    "# Data Split\n",
    "X_train, X_test, y_train, y_test = train_test_split(train.loc[:, \"id\":\"text\"], train.loc[:, [\"target\"]], \n",
    "                                    test_size=0.3, random_state=0, stratify=train.loc[:, [\"target\"]])\n",
    "\n",
    "print(X_train.shape, X_test.shape)"
   ]
  },
  {
   "cell_type": "code",
   "execution_count": 174,
   "metadata": {},
   "outputs": [
    {
     "data": {
      "text/plain": [
       "4812     6849\n",
       "2080     2988\n",
       "652       944\n",
       "3528     5043\n",
       "3007     4321\n",
       "        ...  \n",
       "7248    10378\n",
       "7606    10866\n",
       "1885     2708\n",
       "3865     5496\n",
       "3397     4864\n",
       "Name: id, Length: 5329, dtype: int64"
      ]
     },
     "execution_count": 174,
     "metadata": {},
     "output_type": "execute_result"
    }
   ],
   "source": [
    "# Store \"id\"\n",
    "id_train = X_train[\"id\"]\n",
    "id_test = X_test[\"id\"]\n",
    "id_train"
   ]
  },
  {
   "cell_type": "code",
   "execution_count": 9,
   "metadata": {},
   "outputs": [],
   "source": [
    "from nltk.tokenize import sent_tokenize, word_tokenize\n",
    "import warnings\n",
    " \n",
    "warnings.filterwarnings(action = 'ignore')\n",
    " \n",
    "import gensim\n",
    "from gensim.models import Word2Vec"
   ]
  },
  {
   "cell_type": "code",
   "execution_count": 175,
   "metadata": {},
   "outputs": [],
   "source": [
    "# Get a set of stopwords\n",
    "stops = set(stopwords.words('english'))\n",
    "\n",
    "# Iterate through each sentence in the file\n",
    "words= []\n",
    "\n",
    "for n in range(X_train[\"text\"].size):\n",
    "    \n",
    "    for i in sent_tokenize(X_train[\"text\"].iat[n,]):\n",
    "        # temp = []\n",
    "\n",
    "    # Tokenize the sentence into words\n",
    "        for j in word_tokenize(i):\n",
    "            # Remove stopwords\n",
    "            if j.lower() not in stops:\n",
    "                # temp.append(j.lower())\n",
    "                words.append(j.lower())\n",
    " \n",
    "        # words.append(temp)\n",
    " "
   ]
  },
  {
   "cell_type": "code",
   "execution_count": 12,
   "metadata": {},
   "outputs": [],
   "source": [
    "# Create CBOW model\n",
    "model1 = gensim.models.Word2Vec(words, min_count = 1, vector_size = 100, window = 5)\n",
    " \n",
    "# Create Skip Gram model\n",
    "model2 = gensim.models.Word2Vec(words, min_count = 1, vector_size = 100, window = 5, sg = 1)"
   ]
  },
  {
   "cell_type": "code",
   "execution_count": 13,
   "metadata": {},
   "outputs": [
    {
     "data": {
      "text/plain": [
       "(37343259, 53788100)"
      ]
     },
     "execution_count": 13,
     "metadata": {},
     "output_type": "execute_result"
    }
   ],
   "source": [
    "# Training models\n",
    "model1.train(X_train[\"text\"].to_list(), total_examples=X_train[\"text\"].size, epochs=100)\n",
    "model2.train(X_train[\"text\"].to_list(), total_examples=X_train[\"text\"].size, epochs=100)"
   ]
  },
  {
   "cell_type": "code",
   "execution_count": 19,
   "metadata": {},
   "outputs": [
    {
     "name": "stdout",
     "output_type": "stream",
     "text": [
      "(100,)\n"
     ]
    },
    {
     "data": {
      "text/plain": [
       "array([-0.02004962,  0.10037511,  0.07350621,  0.04939653, -0.03476002,\n",
       "       -0.16195391,  0.04609038,  0.21808012, -0.16392478, -0.08426891,\n",
       "       -0.02270396, -0.15489374, -0.02817422,  0.06093396,  0.03923214,\n",
       "       -0.10855886,  0.01493815, -0.08206686, -0.02305904, -0.29797217,\n",
       "        0.02627587,  0.02536908,  0.10857567, -0.05503755,  0.03082208,\n",
       "        0.01130182, -0.09580877, -0.00886846, -0.14580329,  0.06464776,\n",
       "        0.14711061, -0.05381641,  0.05042885, -0.11926185, -0.03723684,\n",
       "        0.07290098,  0.03564359, -0.01150773,  0.01626032, -0.13782905,\n",
       "        0.01676124, -0.0866912 , -0.12689015,  0.04537553,  0.09070694,\n",
       "       -0.02262278, -0.10084937,  0.03906291,  0.04117893,  0.04786964,\n",
       "        0.04090618, -0.09457989, -0.05056809, -0.0350938 , -0.06172173,\n",
       "        0.02995279,  0.09060061, -0.07169975, -0.13605106,  0.01613214,\n",
       "        0.01843433, -0.00498997,  0.05055493, -0.02341642, -0.14718884,\n",
       "        0.15326908,  0.06144311,  0.03757308, -0.10605472,  0.10337409,\n",
       "       -0.04746991,  0.08534503,  0.11295404, -0.00122165,  0.10584856,\n",
       "        0.11460267,  0.0147836 ,  0.01760098, -0.04964292,  0.05653816,\n",
       "       -0.0568042 , -0.10751303, -0.02019809,  0.1174906 , -0.01707814,\n",
       "       -0.05999985,  0.03219199,  0.08759019,  0.09620593,  0.09315135,\n",
       "        0.09065689,  0.1157776 ,  0.03986841, -0.04946531,  0.1945969 ,\n",
       "        0.07013579,  0.09403934, -0.11829799,  0.03437611,  0.02708627],\n",
       "      dtype=float32)"
      ]
     },
     "execution_count": 19,
     "metadata": {},
     "output_type": "execute_result"
    }
   ],
   "source": [
    "vector1 = model1.wv['sky']\n",
    "print(vector1.shape)\n",
    "vector1"
   ]
  },
  {
   "cell_type": "code",
   "execution_count": 142,
   "metadata": {},
   "outputs": [],
   "source": [
    "## Validate\n",
    "\n",
    "# words # list of words (stopwords are removed)\n",
    "# stops # list of stopwords\n",
    "# model1.wv['a'] # vetor for the word 'a'\n",
    "\n",
    "vect_pred1 = [0]*X_train.shape[0]\n",
    "# vect_pred2 = [None]*X_train.shape[0]\n",
    "\n",
    "for n in range(X_train[\"text\"].size):   # n: 0 ~ 5328\n",
    "    vector_for_sentence = np.zeros((100,100))\n",
    "    for s in sent_tokenize(X_train[\"text\"].iat[n,]):    # each sentence\n",
    "        for w in word_tokenize(s):     # each word\n",
    "            if w.lower() in words:\n",
    "                vector_for_sentence += model1.wv[w.lower()]         # sum of word vectors\n",
    "        vect_pred1[n] = vector_for_sentence     # replace to sentence vector"
   ]
  },
  {
   "cell_type": "code",
   "execution_count": 143,
   "metadata": {},
   "outputs": [
    {
     "name": "stdout",
     "output_type": "stream",
     "text": [
      "(5329, 100, 100) (100, 100)\n"
     ]
    },
    {
     "data": {
      "text/plain": [
       "array([[ 1.87824123,  3.64435208,  4.23504359, ..., -2.26995379,\n",
       "         1.73575195, -1.97714323],\n",
       "       [ 1.87824123,  3.64435208,  4.23504359, ..., -2.26995379,\n",
       "         1.73575195, -1.97714323],\n",
       "       [ 1.87824123,  3.64435208,  4.23504359, ..., -2.26995379,\n",
       "         1.73575195, -1.97714323],\n",
       "       ...,\n",
       "       [ 1.87824123,  3.64435208,  4.23504359, ..., -2.26995379,\n",
       "         1.73575195, -1.97714323],\n",
       "       [ 1.87824123,  3.64435208,  4.23504359, ..., -2.26995379,\n",
       "         1.73575195, -1.97714323],\n",
       "       [ 1.87824123,  3.64435208,  4.23504359, ..., -2.26995379,\n",
       "         1.73575195, -1.97714323]])"
      ]
     },
     "execution_count": 143,
     "metadata": {},
     "output_type": "execute_result"
    }
   ],
   "source": [
    "vect_pred1 = np.array(vect_pred1)\n",
    "print(vect_pred1.shape, vect_pred1[5328].shape)\n",
    "vect_pred1[6]\n"
   ]
  },
  {
   "cell_type": "code",
   "execution_count": 178,
   "metadata": {},
   "outputs": [
    {
     "name": "stdout",
     "output_type": "stream",
     "text": [
      "Xtr1: (5329, 10001)  Ytr1: (5329, 1)\n"
     ]
    }
   ],
   "source": [
    "# Reshape\n",
    "Xtr1 = vect_pred1.reshape(vect_pred1.shape[0], vect_pred1.shape[1]*vect_pred1.shape[2])\n",
    "Xtr1 = np.hstack([np.ones((Xtr1.shape[0],1)), Xtr1[:,:] ])   # add intercepts(ones)\n",
    "Ytr1 = y_train\n",
    "print(\"Xtr1: \" + str(Xtr1.shape), \" Ytr1: \"+ str(Ytr1.shape))"
   ]
  },
  {
   "cell_type": "code",
   "execution_count": 181,
   "metadata": {},
   "outputs": [],
   "source": [
    "# Classification (Logistic Regression)\n",
    "\n",
    "# Make a prediction with weights\n",
    "def predict(x, w):\n",
    "\tz = w.dot(x)\n",
    "\treturn 1.0 / (1.0 + np.exp(-z))\n",
    "\n",
    "# Estimate coefficients using stochastic gradient descent\n",
    "def train_weights(X, y, l_epoch_span, epoch_size, weights, threshold=0.002):\n",
    "  n, m    = X.shape   # n= , m=\n",
    "  batch_size = 25\n",
    "\n",
    "  for batch in range(epoch_size):  # batch = 0, 1, , ..., 49\n",
    "    l_rate = l_epoch_span[batch]  # learning rate\n",
    "\n",
    "    # Randomly select 25 numbers\n",
    "    arr = np.arange(n)\n",
    "    indices = np.random.choice(arr, size=batch_size)  \n",
    "\n",
    "    sum_error = 0   # summed errors from each batch\n",
    "    for b in range(batch_size):  # b = 0, 1, ..., 24\n",
    "      ind = indices[b]\n",
    "      prediction = predict(X[ind,:], weights)\n",
    "      error = abs(prediction - y[ind])\n",
    "      sum_error += error\n",
    "      weights = weights - 1.00 * l_rate * (sum_error / batch_size) * X[ind,:]\n",
    "\n",
    "    print('sum_error at batch #' + str(batch) + ' is ', str(sum_error))\n",
    "  \n",
    "    if sum_error<threshold:\n",
    "      break\n",
    "\n",
    "  return weights"
   ]
  },
  {
   "cell_type": "code",
   "execution_count": 182,
   "metadata": {},
   "outputs": [
    {
     "ename": "KeyError",
     "evalue": "138",
     "output_type": "error",
     "traceback": [
      "\u001b[0;31m---------------------------------------------------------------------------\u001b[0m",
      "\u001b[0;31mKeyError\u001b[0m                                  Traceback (most recent call last)",
      "File \u001b[0;32m~/Library/Python/3.8/lib/python/site-packages/pandas/core/indexes/base.py:3621\u001b[0m, in \u001b[0;36mIndex.get_loc\u001b[0;34m(self, key, method, tolerance)\u001b[0m\n\u001b[1;32m   3620\u001b[0m \u001b[39mtry\u001b[39;00m:\n\u001b[0;32m-> 3621\u001b[0m     \u001b[39mreturn\u001b[39;00m \u001b[39mself\u001b[39;49m\u001b[39m.\u001b[39;49m_engine\u001b[39m.\u001b[39;49mget_loc(casted_key)\n\u001b[1;32m   3622\u001b[0m \u001b[39mexcept\u001b[39;00m \u001b[39mKeyError\u001b[39;00m \u001b[39mas\u001b[39;00m err:\n",
      "File \u001b[0;32m~/Library/Python/3.8/lib/python/site-packages/pandas/_libs/index.pyx:136\u001b[0m, in \u001b[0;36mpandas._libs.index.IndexEngine.get_loc\u001b[0;34m()\u001b[0m\n",
      "File \u001b[0;32m~/Library/Python/3.8/lib/python/site-packages/pandas/_libs/index.pyx:163\u001b[0m, in \u001b[0;36mpandas._libs.index.IndexEngine.get_loc\u001b[0;34m()\u001b[0m\n",
      "File \u001b[0;32mpandas/_libs/hashtable_class_helper.pxi:5198\u001b[0m, in \u001b[0;36mpandas._libs.hashtable.PyObjectHashTable.get_item\u001b[0;34m()\u001b[0m\n",
      "File \u001b[0;32mpandas/_libs/hashtable_class_helper.pxi:5206\u001b[0m, in \u001b[0;36mpandas._libs.hashtable.PyObjectHashTable.get_item\u001b[0;34m()\u001b[0m\n",
      "\u001b[0;31mKeyError\u001b[0m: 138",
      "\nThe above exception was the direct cause of the following exception:\n",
      "\u001b[0;31mKeyError\u001b[0m                                  Traceback (most recent call last)",
      "\u001b[1;32m/Users/lucy/Projects/Personal_Projects/NLP_DisasterTweets/NLP_DisasterTweets.ipynb Cell 29'\u001b[0m in \u001b[0;36m<cell line: 5>\u001b[0;34m()\u001b[0m\n\u001b[1;32m      <a href='vscode-notebook-cell:/Users/lucy/Projects/Personal_Projects/NLP_DisasterTweets/NLP_DisasterTweets.ipynb#ch0000054?line=2'>3</a>\u001b[0m l_epoch_span \u001b[39m=\u001b[39m \u001b[39m1\u001b[39m\u001b[39m/\u001b[39m((\u001b[39m1\u001b[39m\u001b[39m+\u001b[39m(\u001b[39m2\u001b[39m\u001b[39m*\u001b[39mn_span))\u001b[39m*\u001b[39m\u001b[39m*\u001b[39m\u001b[39m3\u001b[39m)    \u001b[39m# list of learning rates\u001b[39;00m\n\u001b[1;32m      <a href='vscode-notebook-cell:/Users/lucy/Projects/Personal_Projects/NLP_DisasterTweets/NLP_DisasterTweets.ipynb#ch0000054?line=3'>4</a>\u001b[0m init_weights \u001b[39m=\u001b[39m np\u001b[39m.\u001b[39mzeros((\u001b[39m1\u001b[39m,Xtr1\u001b[39m.\u001b[39mshape[\u001b[39m1\u001b[39m]))\n\u001b[0;32m----> <a href='vscode-notebook-cell:/Users/lucy/Projects/Personal_Projects/NLP_DisasterTweets/NLP_DisasterTweets.ipynb#ch0000054?line=4'>5</a>\u001b[0m weights \u001b[39m=\u001b[39m train_weights(Xtr1, Ytr1, l_epoch_span, epoch_size, init_weights)\n",
      "\u001b[1;32m/Users/lucy/Projects/Personal_Projects/NLP_DisasterTweets/NLP_DisasterTweets.ipynb Cell 28'\u001b[0m in \u001b[0;36mtrain_weights\u001b[0;34m(X, y, l_epoch_span, epoch_size, weights, threshold)\u001b[0m\n\u001b[1;32m     <a href='vscode-notebook-cell:/Users/lucy/Projects/Personal_Projects/NLP_DisasterTweets/NLP_DisasterTweets.ipynb#ch0000053?line=21'>22</a>\u001b[0m ind \u001b[39m=\u001b[39m indices[b]\n\u001b[1;32m     <a href='vscode-notebook-cell:/Users/lucy/Projects/Personal_Projects/NLP_DisasterTweets/NLP_DisasterTweets.ipynb#ch0000053?line=22'>23</a>\u001b[0m prediction \u001b[39m=\u001b[39m predict(X[ind,:], weights)\n\u001b[0;32m---> <a href='vscode-notebook-cell:/Users/lucy/Projects/Personal_Projects/NLP_DisasterTweets/NLP_DisasterTweets.ipynb#ch0000053?line=23'>24</a>\u001b[0m error \u001b[39m=\u001b[39m \u001b[39mabs\u001b[39m(prediction \u001b[39m-\u001b[39m y[ind])\n\u001b[1;32m     <a href='vscode-notebook-cell:/Users/lucy/Projects/Personal_Projects/NLP_DisasterTweets/NLP_DisasterTweets.ipynb#ch0000053?line=24'>25</a>\u001b[0m sum_error \u001b[39m+\u001b[39m\u001b[39m=\u001b[39m error\n\u001b[1;32m     <a href='vscode-notebook-cell:/Users/lucy/Projects/Personal_Projects/NLP_DisasterTweets/NLP_DisasterTweets.ipynb#ch0000053?line=25'>26</a>\u001b[0m weights \u001b[39m=\u001b[39m weights \u001b[39m-\u001b[39m \u001b[39m1.00\u001b[39m \u001b[39m*\u001b[39m l_rate \u001b[39m*\u001b[39m (sum_error \u001b[39m/\u001b[39m batch_size) \u001b[39m*\u001b[39m X[ind,:]\n",
      "File \u001b[0;32m~/Library/Python/3.8/lib/python/site-packages/pandas/core/frame.py:3505\u001b[0m, in \u001b[0;36mDataFrame.__getitem__\u001b[0;34m(self, key)\u001b[0m\n\u001b[1;32m   3503\u001b[0m \u001b[39mif\u001b[39;00m \u001b[39mself\u001b[39m\u001b[39m.\u001b[39mcolumns\u001b[39m.\u001b[39mnlevels \u001b[39m>\u001b[39m \u001b[39m1\u001b[39m:\n\u001b[1;32m   3504\u001b[0m     \u001b[39mreturn\u001b[39;00m \u001b[39mself\u001b[39m\u001b[39m.\u001b[39m_getitem_multilevel(key)\n\u001b[0;32m-> 3505\u001b[0m indexer \u001b[39m=\u001b[39m \u001b[39mself\u001b[39;49m\u001b[39m.\u001b[39;49mcolumns\u001b[39m.\u001b[39;49mget_loc(key)\n\u001b[1;32m   3506\u001b[0m \u001b[39mif\u001b[39;00m is_integer(indexer):\n\u001b[1;32m   3507\u001b[0m     indexer \u001b[39m=\u001b[39m [indexer]\n",
      "File \u001b[0;32m~/Library/Python/3.8/lib/python/site-packages/pandas/core/indexes/base.py:3623\u001b[0m, in \u001b[0;36mIndex.get_loc\u001b[0;34m(self, key, method, tolerance)\u001b[0m\n\u001b[1;32m   3621\u001b[0m     \u001b[39mreturn\u001b[39;00m \u001b[39mself\u001b[39m\u001b[39m.\u001b[39m_engine\u001b[39m.\u001b[39mget_loc(casted_key)\n\u001b[1;32m   3622\u001b[0m \u001b[39mexcept\u001b[39;00m \u001b[39mKeyError\u001b[39;00m \u001b[39mas\u001b[39;00m err:\n\u001b[0;32m-> 3623\u001b[0m     \u001b[39mraise\u001b[39;00m \u001b[39mKeyError\u001b[39;00m(key) \u001b[39mfrom\u001b[39;00m \u001b[39merr\u001b[39;00m\n\u001b[1;32m   3624\u001b[0m \u001b[39mexcept\u001b[39;00m \u001b[39mTypeError\u001b[39;00m:\n\u001b[1;32m   3625\u001b[0m     \u001b[39m# If we have a listlike key, _check_indexing_error will raise\u001b[39;00m\n\u001b[1;32m   3626\u001b[0m     \u001b[39m#  InvalidIndexError. Otherwise we fall through and re-raise\u001b[39;00m\n\u001b[1;32m   3627\u001b[0m     \u001b[39m#  the TypeError.\u001b[39;00m\n\u001b[1;32m   3628\u001b[0m     \u001b[39mself\u001b[39m\u001b[39m.\u001b[39m_check_indexing_error(key)\n",
      "\u001b[0;31mKeyError\u001b[0m: 138"
     ]
    }
   ],
   "source": [
    "epoch_size = 50\n",
    "n_span = np.arange(epoch_size)\n",
    "l_epoch_span = 1/((1+(2*n_span))**3)    # list of learning rates\n",
    "init_weights = np.zeros((1,Xtr1.shape[1]))\n",
    "weights = train_weights(Xtr1, Ytr1, l_epoch_span, epoch_size, init_weights) "
   ]
  },
  {
   "cell_type": "code",
   "execution_count": null,
   "metadata": {},
   "outputs": [],
   "source": [
    "# Validate\n",
    "for i in range(Xtr1.shape[0]):\n",
    "    Ypred1 = predict(Xtr1[i,:], weights)\n",
    "\n",
    "print(Ypred1.size, type(Ypred1))"
   ]
  },
  {
   "cell_type": "markdown",
   "metadata": {},
   "source": [
    "_____"
   ]
  },
  {
   "cell_type": "code",
   "execution_count": 37,
   "metadata": {},
   "outputs": [
    {
     "name": "stdout",
     "output_type": "stream",
     "text": [
      "(5329, 16619)\n"
     ]
    }
   ],
   "source": [
    "# Convert a collection of text documents to a matrix of token counts\n",
    "count_vectorizer = CountVectorizer(stop_words=\"english\")\n",
    "count_train = count_vectorizer.fit_transform(X_train[\"text\"].values)\n",
    "count_test = count_vectorizer.transform(X_test[\"text\"].values)\n",
    "\n",
    "print(count_train.shape, count_train[10].shape)"
   ]
  },
  {
   "cell_type": "code",
   "execution_count": 91,
   "metadata": {},
   "outputs": [
    {
     "data": {
      "text/plain": [
       "frozenset({'a',\n",
       "           'about',\n",
       "           'above',\n",
       "           'across',\n",
       "           'after',\n",
       "           'afterwards',\n",
       "           'again',\n",
       "           'against',\n",
       "           'all',\n",
       "           'almost',\n",
       "           'alone',\n",
       "           'along',\n",
       "           'already',\n",
       "           'also',\n",
       "           'although',\n",
       "           'always',\n",
       "           'am',\n",
       "           'among',\n",
       "           'amongst',\n",
       "           'amoungst',\n",
       "           'amount',\n",
       "           'an',\n",
       "           'and',\n",
       "           'another',\n",
       "           'any',\n",
       "           'anyhow',\n",
       "           'anyone',\n",
       "           'anything',\n",
       "           'anyway',\n",
       "           'anywhere',\n",
       "           'are',\n",
       "           'around',\n",
       "           'as',\n",
       "           'at',\n",
       "           'back',\n",
       "           'be',\n",
       "           'became',\n",
       "           'because',\n",
       "           'become',\n",
       "           'becomes',\n",
       "           'becoming',\n",
       "           'been',\n",
       "           'before',\n",
       "           'beforehand',\n",
       "           'behind',\n",
       "           'being',\n",
       "           'below',\n",
       "           'beside',\n",
       "           'besides',\n",
       "           'between',\n",
       "           'beyond',\n",
       "           'bill',\n",
       "           'both',\n",
       "           'bottom',\n",
       "           'but',\n",
       "           'by',\n",
       "           'call',\n",
       "           'can',\n",
       "           'cannot',\n",
       "           'cant',\n",
       "           'co',\n",
       "           'con',\n",
       "           'could',\n",
       "           'couldnt',\n",
       "           'cry',\n",
       "           'de',\n",
       "           'describe',\n",
       "           'detail',\n",
       "           'do',\n",
       "           'done',\n",
       "           'down',\n",
       "           'due',\n",
       "           'during',\n",
       "           'each',\n",
       "           'eg',\n",
       "           'eight',\n",
       "           'either',\n",
       "           'eleven',\n",
       "           'else',\n",
       "           'elsewhere',\n",
       "           'empty',\n",
       "           'enough',\n",
       "           'etc',\n",
       "           'even',\n",
       "           'ever',\n",
       "           'every',\n",
       "           'everyone',\n",
       "           'everything',\n",
       "           'everywhere',\n",
       "           'except',\n",
       "           'few',\n",
       "           'fifteen',\n",
       "           'fifty',\n",
       "           'fill',\n",
       "           'find',\n",
       "           'fire',\n",
       "           'first',\n",
       "           'five',\n",
       "           'for',\n",
       "           'former',\n",
       "           'formerly',\n",
       "           'forty',\n",
       "           'found',\n",
       "           'four',\n",
       "           'from',\n",
       "           'front',\n",
       "           'full',\n",
       "           'further',\n",
       "           'get',\n",
       "           'give',\n",
       "           'go',\n",
       "           'had',\n",
       "           'has',\n",
       "           'hasnt',\n",
       "           'have',\n",
       "           'he',\n",
       "           'hence',\n",
       "           'her',\n",
       "           'here',\n",
       "           'hereafter',\n",
       "           'hereby',\n",
       "           'herein',\n",
       "           'hereupon',\n",
       "           'hers',\n",
       "           'herself',\n",
       "           'him',\n",
       "           'himself',\n",
       "           'his',\n",
       "           'how',\n",
       "           'however',\n",
       "           'hundred',\n",
       "           'i',\n",
       "           'ie',\n",
       "           'if',\n",
       "           'in',\n",
       "           'inc',\n",
       "           'indeed',\n",
       "           'interest',\n",
       "           'into',\n",
       "           'is',\n",
       "           'it',\n",
       "           'its',\n",
       "           'itself',\n",
       "           'keep',\n",
       "           'last',\n",
       "           'latter',\n",
       "           'latterly',\n",
       "           'least',\n",
       "           'less',\n",
       "           'ltd',\n",
       "           'made',\n",
       "           'many',\n",
       "           'may',\n",
       "           'me',\n",
       "           'meanwhile',\n",
       "           'might',\n",
       "           'mill',\n",
       "           'mine',\n",
       "           'more',\n",
       "           'moreover',\n",
       "           'most',\n",
       "           'mostly',\n",
       "           'move',\n",
       "           'much',\n",
       "           'must',\n",
       "           'my',\n",
       "           'myself',\n",
       "           'name',\n",
       "           'namely',\n",
       "           'neither',\n",
       "           'never',\n",
       "           'nevertheless',\n",
       "           'next',\n",
       "           'nine',\n",
       "           'no',\n",
       "           'nobody',\n",
       "           'none',\n",
       "           'noone',\n",
       "           'nor',\n",
       "           'not',\n",
       "           'nothing',\n",
       "           'now',\n",
       "           'nowhere',\n",
       "           'of',\n",
       "           'off',\n",
       "           'often',\n",
       "           'on',\n",
       "           'once',\n",
       "           'one',\n",
       "           'only',\n",
       "           'onto',\n",
       "           'or',\n",
       "           'other',\n",
       "           'others',\n",
       "           'otherwise',\n",
       "           'our',\n",
       "           'ours',\n",
       "           'ourselves',\n",
       "           'out',\n",
       "           'over',\n",
       "           'own',\n",
       "           'part',\n",
       "           'per',\n",
       "           'perhaps',\n",
       "           'please',\n",
       "           'put',\n",
       "           'rather',\n",
       "           're',\n",
       "           'same',\n",
       "           'see',\n",
       "           'seem',\n",
       "           'seemed',\n",
       "           'seeming',\n",
       "           'seems',\n",
       "           'serious',\n",
       "           'several',\n",
       "           'she',\n",
       "           'should',\n",
       "           'show',\n",
       "           'side',\n",
       "           'since',\n",
       "           'sincere',\n",
       "           'six',\n",
       "           'sixty',\n",
       "           'so',\n",
       "           'some',\n",
       "           'somehow',\n",
       "           'someone',\n",
       "           'something',\n",
       "           'sometime',\n",
       "           'sometimes',\n",
       "           'somewhere',\n",
       "           'still',\n",
       "           'such',\n",
       "           'system',\n",
       "           'take',\n",
       "           'ten',\n",
       "           'than',\n",
       "           'that',\n",
       "           'the',\n",
       "           'their',\n",
       "           'them',\n",
       "           'themselves',\n",
       "           'then',\n",
       "           'thence',\n",
       "           'there',\n",
       "           'thereafter',\n",
       "           'thereby',\n",
       "           'therefore',\n",
       "           'therein',\n",
       "           'thereupon',\n",
       "           'these',\n",
       "           'they',\n",
       "           'thick',\n",
       "           'thin',\n",
       "           'third',\n",
       "           'this',\n",
       "           'those',\n",
       "           'though',\n",
       "           'three',\n",
       "           'through',\n",
       "           'throughout',\n",
       "           'thru',\n",
       "           'thus',\n",
       "           'to',\n",
       "           'together',\n",
       "           'too',\n",
       "           'top',\n",
       "           'toward',\n",
       "           'towards',\n",
       "           'twelve',\n",
       "           'twenty',\n",
       "           'two',\n",
       "           'un',\n",
       "           'under',\n",
       "           'until',\n",
       "           'up',\n",
       "           'upon',\n",
       "           'us',\n",
       "           'very',\n",
       "           'via',\n",
       "           'was',\n",
       "           'we',\n",
       "           'well',\n",
       "           'were',\n",
       "           'what',\n",
       "           'whatever',\n",
       "           'when',\n",
       "           'whence',\n",
       "           'whenever',\n",
       "           'where',\n",
       "           'whereafter',\n",
       "           'whereas',\n",
       "           'whereby',\n",
       "           'wherein',\n",
       "           'whereupon',\n",
       "           'wherever',\n",
       "           'whether',\n",
       "           'which',\n",
       "           'while',\n",
       "           'whither',\n",
       "           'who',\n",
       "           'whoever',\n",
       "           'whole',\n",
       "           'whom',\n",
       "           'whose',\n",
       "           'why',\n",
       "           'will',\n",
       "           'with',\n",
       "           'within',\n",
       "           'without',\n",
       "           'would',\n",
       "           'yet',\n",
       "           'you',\n",
       "           'your',\n",
       "           'yours',\n",
       "           'yourself',\n",
       "           'yourselves'})"
      ]
     },
     "execution_count": 91,
     "metadata": {},
     "output_type": "execute_result"
    }
   ],
   "source": [
    "count_vectorizer.get_stop_words()"
   ]
  },
  {
   "cell_type": "code",
   "execution_count": 47,
   "metadata": {},
   "outputs": [
    {
     "data": {
      "text/plain": [
       "<1x16619 sparse matrix of type '<class 'numpy.int64'>'\n",
       "\twith 12 stored elements in Compressed Sparse Row format>"
      ]
     },
     "execution_count": 47,
     "metadata": {},
     "output_type": "execute_result"
    }
   ],
   "source": [
    "count_train[5000]"
   ]
  },
  {
   "cell_type": "markdown",
   "metadata": {},
   "source": [
    "## 4. "
   ]
  },
  {
   "cell_type": "markdown",
   "metadata": {},
   "source": [
    "text preprocessing\n",
    "- Word2Vec\n",
    "- tweettoeknizer \n",
    "- tokenize -> lower -> Counter() and .most_common()\n",
    "- remove stop words stopwords.word('english')? english_stops?"
   ]
  },
  {
   "cell_type": "code",
   "execution_count": null,
   "metadata": {},
   "outputs": [],
   "source": []
  }
 ],
 "metadata": {
  "kernelspec": {
   "display_name": "Python 3.8.9 64-bit",
   "language": "python",
   "name": "python3"
  },
  "language_info": {
   "codemirror_mode": {
    "name": "ipython",
    "version": 3
   },
   "file_extension": ".py",
   "mimetype": "text/x-python",
   "name": "python",
   "nbconvert_exporter": "python",
   "pygments_lexer": "ipython3",
   "version": "3.8.9"
  },
  "orig_nbformat": 4,
  "vscode": {
   "interpreter": {
    "hash": "31f2aee4e71d21fbe5cf8b01ff0e069b9275f58929596ceb00d14d90e3e16cd6"
   }
  }
 },
 "nbformat": 4,
 "nbformat_minor": 2
}
