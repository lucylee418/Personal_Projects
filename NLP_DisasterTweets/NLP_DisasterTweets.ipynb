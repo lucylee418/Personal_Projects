{
 "cells": [
  {
   "cell_type": "markdown",
   "metadata": {},
   "source": [
    "Link : https://www.kaggle.com/competitions/nlp-getting-started/overview/evaluation"
   ]
  },
  {
   "cell_type": "markdown",
   "metadata": {},
   "source": [
    "## Blue Print"
   ]
  },
  {
   "cell_type": "markdown",
   "metadata": {},
   "source": [
    "1. Check dataset\n",
    "2. Cleaning\n",
    "3. Preprocessing\n",
    "4. Data Split (using stratified sampling)"
   ]
  },
  {
   "cell_type": "markdown",
   "metadata": {},
   "source": [
    "## Error Function"
   ]
  },
  {
   "cell_type": "markdown",
   "metadata": {},
   "source": [
    "$F_1 = 2\\frac{precision * recall}{precision + recall}$ (1 is the best, 0 is the worst) where:\n",
    " \n",
    "precision = $\\frac{TP}{TP+FP}$, recall = $\\frac{TP}{TP+FN}$"
   ]
  },
  {
   "cell_type": "code",
   "execution_count": 1,
   "metadata": {},
   "outputs": [],
   "source": [
    "# sklearn.metrics.f1_score(y_true, y_pred, *, labels=None, pos_label=1, average='binary', \n",
    "# sample_weight=None, zero_division='warn')\n",
    "# https://scikit-learn.org/stable/modules/generated/sklearn.metrics.f1_score.html"
   ]
  },
  {
   "cell_type": "markdown",
   "metadata": {},
   "source": [
    "## 1. Data Investigation"
   ]
  },
  {
   "cell_type": "code",
   "execution_count": 2,
   "metadata": {},
   "outputs": [],
   "source": [
    "import numpy as np\n",
    "import pandas as pd\n",
    "from sklearn.model_selection import train_test_split\n",
    "from sklearn.feature_extraction.text import CountVectorizer\n",
    "from nltk.corpus import stopwords\n",
    "from sklearn.linear_model import LogisticRegression\n",
    "from sklearn import metrics\n",
    "from nltk.tokenize import sent_tokenize, word_tokenize\n",
    "import warnings\n",
    "from gensim.models import Word2Vec\n",
    "from sklearn.svm import LinearSVC\n",
    "from sklearn.pipeline import make_pipeline\n",
    "from sklearn.preprocessing import StandardScaler\n",
    "# from sklearn.datasets import make_classification\n",
    "# from nltk.tokenize import TweetTokenizer\n",
    "# import re\n",
    "from sklearn.naive_bayes import GaussianNB\n",
    "\n",
    "warnings.filterwarnings(action = 'ignore')"
   ]
  },
  {
   "cell_type": "code",
   "execution_count": 3,
   "metadata": {},
   "outputs": [
    {
     "name": "stdout",
     "output_type": "stream",
     "text": [
      "(7613, 5) (3263, 4)\n"
     ]
    },
    {
     "data": {
      "text/html": [
       "<div>\n",
       "<style scoped>\n",
       "    .dataframe tbody tr th:only-of-type {\n",
       "        vertical-align: middle;\n",
       "    }\n",
       "\n",
       "    .dataframe tbody tr th {\n",
       "        vertical-align: top;\n",
       "    }\n",
       "\n",
       "    .dataframe thead th {\n",
       "        text-align: right;\n",
       "    }\n",
       "</style>\n",
       "<table border=\"1\" class=\"dataframe\">\n",
       "  <thead>\n",
       "    <tr style=\"text-align: right;\">\n",
       "      <th></th>\n",
       "      <th>id</th>\n",
       "      <th>keyword</th>\n",
       "      <th>location</th>\n",
       "      <th>text</th>\n",
       "      <th>target</th>\n",
       "    </tr>\n",
       "  </thead>\n",
       "  <tbody>\n",
       "    <tr>\n",
       "      <th>0</th>\n",
       "      <td>1</td>\n",
       "      <td>NaN</td>\n",
       "      <td>NaN</td>\n",
       "      <td>Our Deeds are the Reason of this #earthquake M...</td>\n",
       "      <td>1</td>\n",
       "    </tr>\n",
       "    <tr>\n",
       "      <th>1</th>\n",
       "      <td>4</td>\n",
       "      <td>NaN</td>\n",
       "      <td>NaN</td>\n",
       "      <td>Forest fire near La Ronge Sask. Canada</td>\n",
       "      <td>1</td>\n",
       "    </tr>\n",
       "    <tr>\n",
       "      <th>2</th>\n",
       "      <td>5</td>\n",
       "      <td>NaN</td>\n",
       "      <td>NaN</td>\n",
       "      <td>All residents asked to 'shelter in place' are ...</td>\n",
       "      <td>1</td>\n",
       "    </tr>\n",
       "    <tr>\n",
       "      <th>3</th>\n",
       "      <td>6</td>\n",
       "      <td>NaN</td>\n",
       "      <td>NaN</td>\n",
       "      <td>13,000 people receive #wildfires evacuation or...</td>\n",
       "      <td>1</td>\n",
       "    </tr>\n",
       "    <tr>\n",
       "      <th>4</th>\n",
       "      <td>7</td>\n",
       "      <td>NaN</td>\n",
       "      <td>NaN</td>\n",
       "      <td>Just got sent this photo from Ruby #Alaska as ...</td>\n",
       "      <td>1</td>\n",
       "    </tr>\n",
       "  </tbody>\n",
       "</table>\n",
       "</div>"
      ],
      "text/plain": [
       "   id keyword location                                               text  \\\n",
       "0   1     NaN      NaN  Our Deeds are the Reason of this #earthquake M...   \n",
       "1   4     NaN      NaN             Forest fire near La Ronge Sask. Canada   \n",
       "2   5     NaN      NaN  All residents asked to 'shelter in place' are ...   \n",
       "3   6     NaN      NaN  13,000 people receive #wildfires evacuation or...   \n",
       "4   7     NaN      NaN  Just got sent this photo from Ruby #Alaska as ...   \n",
       "\n",
       "   target  \n",
       "0       1  \n",
       "1       1  \n",
       "2       1  \n",
       "3       1  \n",
       "4       1  "
      ]
     },
     "execution_count": 3,
     "metadata": {},
     "output_type": "execute_result"
    }
   ],
   "source": [
    "# Load dataset\n",
    "train = pd.read_csv(\"train.csv\")\n",
    "test = pd.read_csv(\"test.csv\")\n",
    "\n",
    "print(train.shape, test.shape)\n",
    "train.head()"
   ]
  },
  {
   "cell_type": "code",
   "execution_count": 4,
   "metadata": {},
   "outputs": [
    {
     "name": "stdout",
     "output_type": "stream",
     "text": [
      "id           int64\n",
      "keyword     object\n",
      "location    object\n",
      "text        object\n",
      "target       int64\n",
      "dtype: object\n"
     ]
    }
   ],
   "source": [
    "# Types of values in each column\n",
    "print(train.dtypes)"
   ]
  },
  {
   "cell_type": "code",
   "execution_count": 5,
   "metadata": {},
   "outputs": [
    {
     "name": "stdout",
     "output_type": "stream",
     "text": [
      "No way...I can't eat that shit\n",
      "Forest fire near La Ronge Sask. Canada\n"
     ]
    }
   ],
   "source": [
    "print(train[train[\"target\"] == 0][\"text\"].values[10])   # not a disaster tweet\n",
    "print(train[train[\"target\"] == 1][\"text\"].values[1])    # disaster tweet"
   ]
  },
  {
   "cell_type": "markdown",
   "metadata": {},
   "source": [
    "## 2. Data Cleaning"
   ]
  },
  {
   "cell_type": "code",
   "execution_count": 6,
   "metadata": {},
   "outputs": [
    {
     "name": "stdout",
     "output_type": "stream",
     "text": [
      "Ratio of missing values in training dataset\n",
      "missing keyword:  0.01\n",
      "missing location:  0.33 \n",
      "\n",
      "Ratio of missing values in testing dataset\n",
      "missing keyword:  0.01\n",
      "missing location:  0.34\n"
     ]
    }
   ],
   "source": [
    "# Check percentage of missing values\n",
    "print(\"Ratio of missing values in training dataset\")\n",
    "print(\"missing keyword: \", str(round(train[\"keyword\"].isnull().sum()/train.shape[0], 2)))\n",
    "print(\"missing location: \", str(round(train[\"location\"].isnull().sum()/train.shape[0], 2)), \"\\n\")\n",
    "\n",
    "print(\"Ratio of missing values in testing dataset\")\n",
    "print(\"missing keyword: \", str(round(test[\"keyword\"].isnull().sum()/test.shape[0], 2)))\n",
    "print(\"missing location: \", str(round(test[\"location\"].isnull().sum()/test.shape[0], 2)))"
   ]
  },
  {
   "cell_type": "markdown",
   "metadata": {},
   "source": [
    "=> Since the test dataset also contains missing values in 'keyword' and 'location', we will drop these columns and use 'text' column only."
   ]
  },
  {
   "cell_type": "markdown",
   "metadata": {},
   "source": [
    "## 3. Preprocessing"
   ]
  },
  {
   "cell_type": "code",
   "execution_count": 7,
   "metadata": {},
   "outputs": [
    {
     "data": {
      "text/html": [
       "<div>\n",
       "<style scoped>\n",
       "    .dataframe tbody tr th:only-of-type {\n",
       "        vertical-align: middle;\n",
       "    }\n",
       "\n",
       "    .dataframe tbody tr th {\n",
       "        vertical-align: top;\n",
       "    }\n",
       "\n",
       "    .dataframe thead th {\n",
       "        text-align: right;\n",
       "    }\n",
       "</style>\n",
       "<table border=\"1\" class=\"dataframe\">\n",
       "  <thead>\n",
       "    <tr style=\"text-align: right;\">\n",
       "      <th></th>\n",
       "      <th>id</th>\n",
       "      <th>text</th>\n",
       "      <th>target</th>\n",
       "    </tr>\n",
       "  </thead>\n",
       "  <tbody>\n",
       "    <tr>\n",
       "      <th>0</th>\n",
       "      <td>1</td>\n",
       "      <td>Our Deeds are the Reason of this #earthquake M...</td>\n",
       "      <td>1</td>\n",
       "    </tr>\n",
       "    <tr>\n",
       "      <th>1</th>\n",
       "      <td>4</td>\n",
       "      <td>Forest fire near La Ronge Sask. Canada</td>\n",
       "      <td>1</td>\n",
       "    </tr>\n",
       "    <tr>\n",
       "      <th>2</th>\n",
       "      <td>5</td>\n",
       "      <td>All residents asked to 'shelter in place' are ...</td>\n",
       "      <td>1</td>\n",
       "    </tr>\n",
       "    <tr>\n",
       "      <th>3</th>\n",
       "      <td>6</td>\n",
       "      <td>13,000 people receive #wildfires evacuation or...</td>\n",
       "      <td>1</td>\n",
       "    </tr>\n",
       "    <tr>\n",
       "      <th>4</th>\n",
       "      <td>7</td>\n",
       "      <td>Just got sent this photo from Ruby #Alaska as ...</td>\n",
       "      <td>1</td>\n",
       "    </tr>\n",
       "  </tbody>\n",
       "</table>\n",
       "</div>"
      ],
      "text/plain": [
       "   id                                               text  target\n",
       "0   1  Our Deeds are the Reason of this #earthquake M...       1\n",
       "1   4             Forest fire near La Ronge Sask. Canada       1\n",
       "2   5  All residents asked to 'shelter in place' are ...       1\n",
       "3   6  13,000 people receive #wildfires evacuation or...       1\n",
       "4   7  Just got sent this photo from Ruby #Alaska as ...       1"
      ]
     },
     "execution_count": 7,
     "metadata": {},
     "output_type": "execute_result"
    }
   ],
   "source": [
    "# Drop irrelevant columns\n",
    "train = train.drop([\"keyword\", \"location\"], axis=1)\n",
    "test = test.drop([\"keyword\", \"location\"], axis=1)\n",
    "\n",
    "train.head()"
   ]
  },
  {
   "cell_type": "code",
   "execution_count": 8,
   "metadata": {},
   "outputs": [
    {
     "name": "stdout",
     "output_type": "stream",
     "text": [
      "(5329, 2) (2284, 2)\n"
     ]
    }
   ],
   "source": [
    "# Data Split\n",
    "X_train, X_test, y_train, y_test = train_test_split(train.loc[:, \"id\":\"text\"], train.loc[:, [\"target\"]], \n",
    "                                    test_size=0.3, random_state=0, stratify=train.loc[:, [\"target\"]])\n",
    "\n",
    "print(X_train.shape, X_test.shape)"
   ]
  },
  {
   "cell_type": "code",
   "execution_count": 9,
   "metadata": {},
   "outputs": [],
   "source": [
    "# Store \"id\"\n",
    "id_train = train[\"id\"]\n",
    "id_test = test[\"id\"]"
   ]
  },
  {
   "cell_type": "code",
   "execution_count": 10,
   "metadata": {},
   "outputs": [],
   "source": [
    "# Get a set of stopwords\n",
    "stops = set(stopwords.words('english'))\n",
    "\n",
    "# Iterate through each sentence in the file\n",
    "words_model = []\n",
    "words = []\n",
    "\n",
    "for n in range(X_train[\"text\"].size):\n",
    "    \n",
    "    for i in sent_tokenize(X_train[\"text\"].iat[n,]):\n",
    "        temp = []\n",
    "\n",
    "    # Tokenize the sentence into words\n",
    "        for j in word_tokenize(i):\n",
    "            # Remove stopwords\n",
    "            if j.lower() not in stops:\n",
    "                temp.append(j.lower())\n",
    "                words.append(j.lower())     # list of words\n",
    " \n",
    "        words_model.append(temp)\n",
    " "
   ]
  },
  {
   "cell_type": "code",
   "execution_count": 11,
   "metadata": {},
   "outputs": [],
   "source": [
    "# Create Skip Gram model\n",
    "model = Word2Vec(words_model, min_count = 1, vector_size = 100, window = 5, sg = 1)"
   ]
  },
  {
   "cell_type": "code",
   "execution_count": 12,
   "metadata": {},
   "outputs": [
    {
     "data": {
      "text/plain": [
       "(21907348, 53788100)"
      ]
     },
     "execution_count": 12,
     "metadata": {},
     "output_type": "execute_result"
    }
   ],
   "source": [
    "# Training models\n",
    "model.train(X_train[\"text\"].to_list(), total_examples=X_train[\"text\"].size, epochs=100)"
   ]
  },
  {
   "cell_type": "code",
   "execution_count": 13,
   "metadata": {},
   "outputs": [],
   "source": [
    "# Decompose sentences\n",
    "def text_to_vec(text_df, model):\n",
    "\n",
    "    vect_X = [0] * text_df.shape[0]\n",
    "\n",
    "    for n in range(text_df[\"text\"].size):\n",
    "        vector_for_sentence = np.zeros((100,))\n",
    "        # Decompose dataframe into sentences\n",
    "        for s in sent_tokenize(text_df[\"text\"].iat[n,]):\n",
    "            # Decompose sentences into words\n",
    "            for w in word_tokenize(s):\n",
    "                if w.lower() in words:\n",
    "                # if w.lower() in model.wv:\n",
    "                    vector_for_sentence += model.wv[w.lower()]         # sum of word vectors\n",
    "            vect_X[n] = vector_for_sentence     # replace to sentence vector\n",
    "\n",
    "    return np.array(vect_X)"
   ]
  },
  {
   "cell_type": "code",
   "execution_count": 14,
   "metadata": {},
   "outputs": [],
   "source": [
    "vect_Xtr = text_to_vec(X_train, model)\n",
    "vect_Xte = text_to_vec(X_test, model)"
   ]
  },
  {
   "cell_type": "markdown",
   "metadata": {},
   "source": [
    "## 4. Apply ML models"
   ]
  },
  {
   "cell_type": "markdown",
   "metadata": {},
   "source": [
    "### 4-1. Logistic Regression"
   ]
  },
  {
   "cell_type": "code",
   "execution_count": 15,
   "metadata": {},
   "outputs": [
    {
     "data": {
      "text/plain": [
       "LogisticRegression()"
      ]
     },
     "execution_count": 15,
     "metadata": {},
     "output_type": "execute_result"
    }
   ],
   "source": [
    "# Fit the data\n",
    "reg_model = LogisticRegression()\n",
    "reg_model.fit(vect_Xtr, y_train)"
   ]
  },
  {
   "cell_type": "code",
   "execution_count": 16,
   "metadata": {},
   "outputs": [
    {
     "name": "stdout",
     "output_type": "stream",
     "text": [
      "Accuracy of Logistic Regression classifier with Skip Gram model on test set: 0.60\n"
     ]
    }
   ],
   "source": [
    "yr_pred = reg_model.predict(vect_Xte)\n",
    "\n",
    "error_reg = metrics.f1_score(y_test, yr_pred, labels=None, pos_label=1, average='binary', \n",
    "                                sample_weight=None, zero_division='warn')\n",
    "# error_logreg = metrics.roc_auc_score(y_test, yl_pred1)   # AUC(area under curve) of ROC curve\n",
    "print('Accuracy of Logistic Regression classifier with Skip Gram model on test set: {:.2f}'.format(error_reg))  # 0.60"
   ]
  },
  {
   "cell_type": "markdown",
   "metadata": {},
   "source": [
    "### 4-2. Linear SVC"
   ]
  },
  {
   "cell_type": "code",
   "execution_count": 17,
   "metadata": {},
   "outputs": [
    {
     "data": {
      "text/plain": [
       "Pipeline(steps=[('standardscaler', StandardScaler()),\n",
       "                ('linearsvc', LinearSVC(random_state=0, tol=1e-05))])"
      ]
     },
     "execution_count": 17,
     "metadata": {},
     "output_type": "execute_result"
    }
   ],
   "source": [
    "# Fit the data\n",
    "linearsvc = make_pipeline(StandardScaler(), LinearSVC(random_state=0, tol=1e-5))\n",
    "linearsvc.fit(vect_Xtr, y_train)\n",
    "\n",
    "# print(linearsvc.named_steps['linearsvc'].coef_)\n",
    "# print(linearsvc.named_steps['linearsvc'].intercept_)"
   ]
  },
  {
   "cell_type": "code",
   "execution_count": 18,
   "metadata": {},
   "outputs": [
    {
     "name": "stdout",
     "output_type": "stream",
     "text": [
      "Accuracy of Linear SVC classifier on test set: 0.61\n"
     ]
    }
   ],
   "source": [
    "ys_pred = linearsvc.predict(vect_Xte)\n",
    "error_svc = metrics.f1_score(y_test, ys_pred, labels=None, pos_label=1, average='binary', \n",
    "                                sample_weight=None, zero_division='warn')\n",
    "                                \n",
    "print('Accuracy of Linear SVC classifier on test set: {:.2f}'.format(error_svc))  # 0.61"
   ]
  },
  {
   "cell_type": "markdown",
   "metadata": {},
   "source": [
    "### 4-3. Gaussian Naive Bayes"
   ]
  },
  {
   "cell_type": "code",
   "execution_count": 19,
   "metadata": {},
   "outputs": [
    {
     "data": {
      "text/plain": [
       "GaussianNB()"
      ]
     },
     "execution_count": 19,
     "metadata": {},
     "output_type": "execute_result"
    }
   ],
   "source": [
    "gnb = GaussianNB()\n",
    "gnb.fit(vect_Xtr, y_train)"
   ]
  },
  {
   "cell_type": "code",
   "execution_count": 20,
   "metadata": {},
   "outputs": [
    {
     "name": "stdout",
     "output_type": "stream",
     "text": [
      "Accuracy of Gaussian Naive Bayes on test set: 0.62\n"
     ]
    }
   ],
   "source": [
    "yg_pred = gnb.predict(vect_Xte)\n",
    "\n",
    "error_gnb = metrics.f1_score(y_test, yg_pred, labels=None, pos_label=1, average='binary', \n",
    "                                sample_weight=None, zero_division='warn')\n",
    "                                \n",
    "print('Accuracy of Gaussian Naive Bayes on test set: {:.2f}'.format(error_gnb))  # 0.62"
   ]
  },
  {
   "cell_type": "markdown",
   "metadata": {},
   "source": [
    "## 5. Apply to the testing dataset"
   ]
  },
  {
   "cell_type": "code",
   "execution_count": 21,
   "metadata": {},
   "outputs": [],
   "source": [
    "# Vectorize original train & test data set\n",
    "vect_train = text_to_vec(train, model) \n",
    "vect_test = text_to_vec(test, model)   "
   ]
  },
  {
   "cell_type": "code",
   "execution_count": 22,
   "metadata": {},
   "outputs": [
    {
     "data": {
      "text/plain": [
       "GaussianNB()"
      ]
     },
     "execution_count": 22,
     "metadata": {},
     "output_type": "execute_result"
    }
   ],
   "source": [
    "# Fit\n",
    "linearsvc.fit(vect_train, train['target'])\n",
    "gnb.fit(vect_train, train['target'])"
   ]
  },
  {
   "cell_type": "code",
   "execution_count": 23,
   "metadata": {},
   "outputs": [],
   "source": [
    "# Predict\n",
    "pred_SVC = pd.DataFrame(linearsvc.predict(vect_test))\n",
    "pred_NB = pd.DataFrame(gnb.predict(vect_test))"
   ]
  },
  {
   "cell_type": "code",
   "execution_count": 24,
   "metadata": {},
   "outputs": [],
   "source": [
    "# Add 'id'\n",
    "pred_SVC = pd.concat([id_test, pred_SVC], axis=1)\n",
    "pred_SVC = pred_SVC.rename(columns={0: \"target\"})\n",
    "\n",
    "pred_NB = pd.concat([id_test, pred_NB], axis=1)\n",
    "pred_NB = pred_NB.rename(columns={0: \"target\"})"
   ]
  },
  {
   "cell_type": "code",
   "execution_count": 25,
   "metadata": {},
   "outputs": [],
   "source": [
    "# Create csv file\n",
    "submit_SVC = pred_SVC.to_csv('submission_SVC.csv', index=False) # score : 0.72571\n",
    "submit_NB = pred_NB.to_csv('submission_NB.csv', index=False)    # score : 0.58320"
   ]
  },
  {
   "cell_type": "markdown",
   "metadata": {},
   "source": [
    "--------------"
   ]
  },
  {
   "cell_type": "markdown",
   "metadata": {},
   "source": [
    "## 6. How can we improve accuracy?"
   ]
  },
  {
   "cell_type": "markdown",
   "metadata": {},
   "source": [
    "### 6-1. Improve preprocessing"
   ]
  },
  {
   "cell_type": "code",
   "execution_count": 26,
   "metadata": {},
   "outputs": [
    {
     "name": "stdout",
     "output_type": "stream",
     "text": [
      "(5329, 16619) (16619,) <class 'numpy.ndarray'>\n"
     ]
    }
   ],
   "source": [
    "# Convert a collection of text documents to a matrix of token counts\n",
    "count_vectorizer = CountVectorizer(stop_words=\"english\")\n",
    "count_Xtr = count_vectorizer.fit_transform(X_train[\"text\"].values).toarray()\n",
    "count_Xte = count_vectorizer.transform(X_test[\"text\"].values).toarray()\n",
    "\n",
    "print(count_Xtr.shape, count_Xtr[10].shape, type(count_Xtr))"
   ]
  },
  {
   "cell_type": "code",
   "execution_count": 27,
   "metadata": {},
   "outputs": [
    {
     "name": "stdout",
     "output_type": "stream",
     "text": [
      "Accuracy of Logistic Regression classifier with Skip Gram model on test set: 0.75\n"
     ]
    }
   ],
   "source": [
    "# Logistic Regression\n",
    "reg_model_count = LogisticRegression()\n",
    "reg_model_count.fit(count_Xtr, y_train)\n",
    "cout_yr_pred = reg_model_count.predict(count_Xte)\n",
    "error_reg_count = metrics.f1_score(y_test, cout_yr_pred, labels=None, pos_label=1, average='binary', \n",
    "                                sample_weight=None, zero_division='warn')\n",
    "print('Accuracy of Logistic Regression classifier with Skip Gram model on test set: {:.2f}'.format(error_reg_count))    # 0.75"
   ]
  },
  {
   "cell_type": "code",
   "execution_count": 28,
   "metadata": {},
   "outputs": [
    {
     "name": "stdout",
     "output_type": "stream",
     "text": [
      "Accuracy of Linear SVC classifier on test set: 0.66\n"
     ]
    }
   ],
   "source": [
    "# Linear SVC\n",
    "svc_count = make_pipeline(StandardScaler(), LinearSVC(random_state=0, tol=1e-5))\n",
    "svc_count.fit(count_Xtr, y_train)\n",
    "count_ys_pred = svc_count.predict(count_Xte)\n",
    "error_svc_count = metrics.f1_score(y_test, count_ys_pred, labels=None, pos_label=1, average='binary', \n",
    "                                sample_weight=None, zero_division='warn')\n",
    "print('Accuracy of Linear SVC classifier on test set: {:.2f}'.format(error_svc_count))  # 0.66"
   ]
  },
  {
   "cell_type": "code",
   "execution_count": 29,
   "metadata": {},
   "outputs": [
    {
     "name": "stdout",
     "output_type": "stream",
     "text": [
      "Accuracy of Gaussian Naive Bayes on test set: 0.64\n"
     ]
    }
   ],
   "source": [
    "# Gaussian Naive Bayes\n",
    "gnb_count = GaussianNB()\n",
    "gnb_count.fit(count_Xtr, y_train)\n",
    "count_yg_pred = gnb_count.predict(count_Xte)\n",
    "error_gnb_count = metrics.f1_score(y_test, count_yg_pred, labels=None, pos_label=1, average='binary', \n",
    "                                sample_weight=None, zero_division='warn')                              \n",
    "print('Accuracy of Gaussian Naive Bayes on test set: {:.2f}'.format(error_gnb_count))   #0.64\n"
   ]
  },
  {
   "cell_type": "code",
   "execution_count": 30,
   "metadata": {},
   "outputs": [],
   "source": [
    "# Vectorize original train & test data set\n",
    "count_train = count_vectorizer.fit_transform(train[\"text\"].values).toarray()\n",
    "count_test = count_vectorizer.transform(test[\"text\"].values).toarray()\n",
    "\n",
    "# Fit\n",
    "reg_model_count.fit(count_train, train['target'])\n",
    "\n",
    "# Predict \n",
    "pred_REG = pd.DataFrame(reg_model_count.predict(count_test))\n",
    "\n",
    "# Add 'id'\n",
    "pred_REG = pd.concat([id_test, pred_REG], axis=1)\n",
    "pred_REG = pred_REG.rename(columns={0: \"target\"})\n",
    "\n",
    "# Create csv file\n",
    "submit_REG = pred_REG.to_csv('submission_count_REG.csv', index=False)    # score : 0.80018"
   ]
  },
  {
   "cell_type": "markdown",
   "metadata": {},
   "source": [
    "------"
   ]
  },
  {
   "cell_type": "markdown",
   "metadata": {},
   "source": [
    "### 6-2. Improve ML model"
   ]
  },
  {
   "cell_type": "code",
   "execution_count": null,
   "metadata": {},
   "outputs": [],
   "source": [
    "# Add intercepts(ones)\n",
    "Xtr1 = np.hstack([np.ones((vect_Xtr.shape[0],1)), vect_Xtr[:,:] ])   \n",
    "ytr1 = y_train\n",
    "print(\"Xtr1: \" + str(Xtr1.shape), \" Ytr1: \"+ str(ytr1.shape))"
   ]
  },
  {
   "cell_type": "code",
   "execution_count": null,
   "metadata": {},
   "outputs": [],
   "source": [
    "# Classification (Logistic Regression)\n",
    "\n",
    "# Make a prediction with weights\n",
    "def predict(x, w):\n",
    "\tz = w.dot(x)\n",
    "\treturn 1.0 / (1.0 + np.exp(-z))\n",
    "\n",
    "# Estimate coefficients using stochastic gradient descent\n",
    "def train_weights(X, y, l_epoch_span, epoch_size, weights, threshold=0.002):\n",
    "  n, m    = X.shape   # n= , m=\n",
    "  batch_size = 25\n",
    "\n",
    "  for batch in range(epoch_size):  # batch = 0, 1, , ..., 49\n",
    "    l_rate = l_epoch_span[batch]  # learning rate\n",
    "\n",
    "    # Randomly select 25 numbers\n",
    "    arr = np.arange(n)\n",
    "    indices = np.random.choice(arr, size=batch_size)  \n",
    "\n",
    "    sum_error = 0   # summed errors from each batch\n",
    "    for b in range(batch_size):  # b = 0, 1, ..., 24\n",
    "      ind = indices[b]\n",
    "      prediction = predict(X[ind,:], weights)\n",
    "      error = abs(prediction - y[ind])\n",
    "      sum_error += error\n",
    "      weights = weights - 1.00 * l_rate * (sum_error / batch_size) * X[ind,:]\n",
    "\n",
    "    print('sum_error at batch #' + str(batch) + ' is ', str(sum_error))\n",
    "  \n",
    "    if sum_error<threshold:\n",
    "      break\n",
    "\n",
    "  return weights"
   ]
  },
  {
   "cell_type": "code",
   "execution_count": null,
   "metadata": {},
   "outputs": [],
   "source": [
    "epoch_size = 50\n",
    "n_span = np.arange(epoch_size)\n",
    "l_epoch_span = 1/((1+(2*n_span))**3)    # list of learning rates\n",
    "init_weights = np.zeros((1,Xtr1.shape[1]))\n",
    "weights = train_weights(Xtr1, ytr1, l_epoch_span, epoch_size, init_weights) "
   ]
  },
  {
   "cell_type": "code",
   "execution_count": null,
   "metadata": {},
   "outputs": [],
   "source": [
    "# Validate\n",
    "for i in range(Xtr1.shape[0]):\n",
    "    Ypred1 = predict(Xtr1[i,:], weights)\n",
    "\n",
    "print(Ypred1.size, type(Ypred1))"
   ]
  }
 ],
 "metadata": {
  "kernelspec": {
   "display_name": "Python 3.8.9 64-bit",
   "language": "python",
   "name": "python3"
  },
  "language_info": {
   "codemirror_mode": {
    "name": "ipython",
    "version": 3
   },
   "file_extension": ".py",
   "mimetype": "text/x-python",
   "name": "python",
   "nbconvert_exporter": "python",
   "pygments_lexer": "ipython3",
   "version": "3.8.9"
  },
  "orig_nbformat": 4,
  "vscode": {
   "interpreter": {
    "hash": "31f2aee4e71d21fbe5cf8b01ff0e069b9275f58929596ceb00d14d90e3e16cd6"
   }
  }
 },
 "nbformat": 4,
 "nbformat_minor": 2
}
