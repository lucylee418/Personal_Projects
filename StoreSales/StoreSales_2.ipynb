{
 "cells": [
  {
   "cell_type": "markdown",
   "metadata": {},
   "source": [
    "# Store Sales - Multiple Features Forecasting\n",
    "\n",
    "https://www.kaggle.com/competitions/store-sales-time-series-forecasting\n",
    "\n",
    "***In this project, forecasting will be processed with considering different features(promotion, holiday)<br>\n",
    "Also, we will implement forecasting per each product family***"
   ]
  },
  {
   "cell_type": "markdown",
   "metadata": {},
   "source": [
    "The evaluation metric for this competition is Root Mean Squared Logarithmic Error.\n",
    "\n",
    "The RMSLE is calculated as:\n",
    "$\\sqrt{ \\frac{1}{n} \\sum_{i=1}^n \\left(\\log (1 + \\hat{y}_i) - \\log (1 + y_i)\\right)^2}$\n",
    "where:\n",
    "\n",
    "𝑛 is the total number of instances,<br>\n",
    "𝑦̂ 𝑖 is the predicted value of the target for instance (i),<br>\n",
    "𝑦𝑖 is the actual value of the target for instance (i), and,<br>\n",
    "log is the natural logarithm."
   ]
  },
  {
   "cell_type": "markdown",
   "metadata": {},
   "source": [
    "The training data; <br>\n",
    "***store_nbr*** identifies the store at which the products are sold.<br>\n",
    "***family*** identifies the type of product sold.<br>\n",
    "***sales*** gives the total sales for a product family at a particular store at a given date.\n",
    "Fractional values are possible since products can be sold in fractional units (1.5 kg of cheese, for instance, as opposed to 1 bag of chips).<br>\n",
    "***onpromotion*** gives the total number of items in a product family that were being promoted at a store at a given date."
   ]
  },
  {
   "cell_type": "markdown",
   "metadata": {},
   "source": [
    "### Preprocessing"
   ]
  },
  {
   "cell_type": "code",
   "execution_count": null,
   "metadata": {},
   "outputs": [],
   "source": []
  }
 ],
 "metadata": {
  "interpreter": {
   "hash": "31f2aee4e71d21fbe5cf8b01ff0e069b9275f58929596ceb00d14d90e3e16cd6"
  },
  "kernelspec": {
   "display_name": "Python 3.8.9 64-bit",
   "language": "python",
   "name": "python3"
  },
  "language_info": {
   "codemirror_mode": {
    "name": "ipython",
    "version": 3
   },
   "file_extension": ".py",
   "mimetype": "text/x-python",
   "name": "python",
   "nbconvert_exporter": "python",
   "pygments_lexer": "ipython3",
   "version": "3.8.9"
  },
  "orig_nbformat": 4
 },
 "nbformat": 4,
 "nbformat_minor": 2
}
