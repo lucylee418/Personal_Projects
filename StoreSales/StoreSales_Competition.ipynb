{
 "cells": [
  {
   "cell_type": "markdown",
   "metadata": {},
   "source": [
    "***In this project, forecasting will be processed with considering 'promotion' featureas well.<br>\n",
    "Also, we will implement forecasting per each product family***"
   ]
  },
  {
   "cell_type": "markdown",
   "metadata": {},
   "source": [
    "## Blue print\n",
    "\n",
    "1. Investigate the dataset. (unique values, data type etc)\n",
    "2. How to numerize *family* features?\n",
    "3. How to convert *date* to time features?\n",
    "4. Split *train* dataset to *ourtrain* and *ourtest* for pre-validation.\n",
    "5. Apply various ML models. (Trend, Periodtogram, Cycles, Hybrid)\n",
    "6. Choose the best model and apply to our test set.\n",
    "7. Apply and make csv file for submition.\n"
   ]
  },
  {
   "cell_type": "markdown",
   "metadata": {},
   "source": [
    "## Preprocessing"
   ]
  },
  {
   "cell_type": "code",
   "execution_count": 2,
   "metadata": {},
   "outputs": [],
   "source": [
    "# Import packages\n",
    "from pathlib import Path\n",
    "import pandas as pd\n",
    "import matplotlib.pyplot as plt\n",
    "import numpy as np\n",
    "import seaborn as sns\n",
    "from sklearn.linear_model import LinearRegression\n",
    "import datetime\n",
    "import math\n",
    "from statsmodels.tsa.deterministic import CalendarFourier, DeterministicProcess\n",
    "from sklearn.preprocessing import LabelEncoder\n",
    "from sklearn.preprocessing import OneHotEncoder\n",
    "\n",
    "# Ignore Future Warning\n",
    "import warnings\n",
    "warnings.simplefilter(action='ignore', category=FutureWarning)"
   ]
  },
  {
   "cell_type": "code",
   "execution_count": 3,
   "metadata": {},
   "outputs": [],
   "source": [
    "# Load dataset\n",
    "train = pd.read_csv('train.csv', parse_dates=[\"date\"])\n",
    "test = pd.read_csv('test.csv', parse_dates=[\"date\"])"
   ]
  },
  {
   "cell_type": "code",
   "execution_count": 4,
   "metadata": {},
   "outputs": [
    {
     "data": {
      "text/html": [
       "<div>\n",
       "<style scoped>\n",
       "    .dataframe tbody tr th:only-of-type {\n",
       "        vertical-align: middle;\n",
       "    }\n",
       "\n",
       "    .dataframe tbody tr th {\n",
       "        vertical-align: top;\n",
       "    }\n",
       "\n",
       "    .dataframe thead th {\n",
       "        text-align: right;\n",
       "    }\n",
       "</style>\n",
       "<table border=\"1\" class=\"dataframe\">\n",
       "  <thead>\n",
       "    <tr style=\"text-align: right;\">\n",
       "      <th></th>\n",
       "      <th>id</th>\n",
       "      <th>date</th>\n",
       "      <th>store_nbr</th>\n",
       "      <th>family</th>\n",
       "      <th>sales</th>\n",
       "      <th>onpromotion</th>\n",
       "    </tr>\n",
       "  </thead>\n",
       "  <tbody>\n",
       "    <tr>\n",
       "      <th>0</th>\n",
       "      <td>0</td>\n",
       "      <td>2013-01-01</td>\n",
       "      <td>1</td>\n",
       "      <td>AUTOMOTIVE</td>\n",
       "      <td>0.0</td>\n",
       "      <td>0</td>\n",
       "    </tr>\n",
       "    <tr>\n",
       "      <th>1</th>\n",
       "      <td>1</td>\n",
       "      <td>2013-01-01</td>\n",
       "      <td>1</td>\n",
       "      <td>BABY CARE</td>\n",
       "      <td>0.0</td>\n",
       "      <td>0</td>\n",
       "    </tr>\n",
       "    <tr>\n",
       "      <th>2</th>\n",
       "      <td>2</td>\n",
       "      <td>2013-01-01</td>\n",
       "      <td>1</td>\n",
       "      <td>BEAUTY</td>\n",
       "      <td>0.0</td>\n",
       "      <td>0</td>\n",
       "    </tr>\n",
       "    <tr>\n",
       "      <th>3</th>\n",
       "      <td>3</td>\n",
       "      <td>2013-01-01</td>\n",
       "      <td>1</td>\n",
       "      <td>BEVERAGES</td>\n",
       "      <td>0.0</td>\n",
       "      <td>0</td>\n",
       "    </tr>\n",
       "    <tr>\n",
       "      <th>4</th>\n",
       "      <td>4</td>\n",
       "      <td>2013-01-01</td>\n",
       "      <td>1</td>\n",
       "      <td>BOOKS</td>\n",
       "      <td>0.0</td>\n",
       "      <td>0</td>\n",
       "    </tr>\n",
       "  </tbody>\n",
       "</table>\n",
       "</div>"
      ],
      "text/plain": [
       "   id       date  store_nbr      family  sales  onpromotion\n",
       "0   0 2013-01-01          1  AUTOMOTIVE    0.0            0\n",
       "1   1 2013-01-01          1   BABY CARE    0.0            0\n",
       "2   2 2013-01-01          1      BEAUTY    0.0            0\n",
       "3   3 2013-01-01          1   BEVERAGES    0.0            0\n",
       "4   4 2013-01-01          1       BOOKS    0.0            0"
      ]
     },
     "execution_count": 4,
     "metadata": {},
     "output_type": "execute_result"
    }
   ],
   "source": [
    "train.head()"
   ]
  },
  {
   "cell_type": "markdown",
   "metadata": {},
   "source": [
    "#### - Error function : \n",
    "$\\sqrt{ \\frac{1}{n} \\sum_{i=1}^n \\left(\\log (1 + \\hat{y}_i) - \\log (1 + y_i)\\right)^2}$\n",
    "\n",
    "𝑛 is the total number of instances,<br>\n",
    "𝑦̂ 𝑖 is the predicted value of the target for instance (i),<br>\n",
    "𝑦𝑖 is the actual value of the target for instance (i)"
   ]
  },
  {
   "cell_type": "code",
   "execution_count": 5,
   "metadata": {},
   "outputs": [],
   "source": [
    "# Error Function (RMSLE)\n",
    "def error(y_p, y_t):    # y_p(sales, id), y_t(sales)\n",
    "    pred_log = []\n",
    "    for i in np.nditer(y_p[\"sales\"]):\n",
    "        if i < 0:\n",
    "            i = 0\n",
    "        pred_log.append(math.log(i+1))\n",
    "        \n",
    "    pred_log = np.array(pred_log)\n",
    "    act_log = np.array([math.log(i+1) for i in np.nditer(y_t)])\n",
    "    dum_error = sum((pred_log - act_log)**2)/len(pred_log)\n",
    "    linear_error = np.power(dum_error, 1/2)\n",
    "\n",
    "    return round(linear_error, 4)"
   ]
  },
  {
   "cell_type": "code",
   "execution_count": 6,
   "metadata": {},
   "outputs": [],
   "source": [
    "# Compute error for each model\n",
    "def errors_model(model):\n",
    "    errors_list = []\n",
    "    for store in store_list:\n",
    "        for family in family_list:\n",
    "            # split ourtrain and ourtest\n",
    "            ourtrain, ourtest = split_train_test(date_features(store_family_subsets(train_subsets, store)[family]))\n",
    "            \n",
    "            # apply trend model\n",
    "            y_test = ourtest['sales']\n",
    "            y_fore = model(ourtrain, ourtest)\n",
    "            \n",
    "            # compute errors\n",
    "            errors = error(y_fore, y_test)\n",
    "            errors_list.append(round(errors, 2))\n",
    "\n",
    "    return sum(errors_list)"
   ]
  },
  {
   "cell_type": "markdown",
   "metadata": {},
   "source": [
    "## 1. Data investigation"
   ]
  },
  {
   "cell_type": "markdown",
   "metadata": {},
   "source": [
    "#### - train dataset\n",
    "* shape : 3000888 × 6\n",
    "* null : none\n",
    "<br><br>\n",
    "* *date* : timestamp. 2013-01-01 ~ 2017-08-15\n",
    "* *store_nbr* : numpy. 1 ~ 54\n",
    "* *family* : str. ['AUTOMOTIVE', 'BABY CARE', 'BEAUTY', 'BEVERAGES', 'BOOKS',\n",
    "       'BREAD/BAKERY', 'CELEBRATION', 'CLEANING', 'DAIRY', 'DELI', 'EGGS',\n",
    "       'FROZEN FOODS', 'GROCERY I', 'GROCERY II', 'HARDWARE',\n",
    "       'HOME AND KITCHEN I', 'HOME AND KITCHEN II', 'HOME APPLIANCES',\n",
    "       'HOME CARE', 'LADIESWEAR', 'LAWN AND GARDEN', 'LINGERIE',\n",
    "       'LIQUOR,WINE,BEER', 'MAGAZINES', 'MEATS', 'PERSONAL CARE',\n",
    "       'PET SUPPLIES', 'PLAYERS AND ELECTRONICS', 'POULTRY',\n",
    "       'PREPARED FOODS', 'PRODUCE', 'SCHOOL AND OFFICE SUPPLIES',\n",
    "       'SEAFOOD']\n",
    "* *sales* : numpy. 0 ~ 124717\n",
    "* *onpromotion* : numpy. 0 ~ 741\n"
   ]
  },
  {
   "cell_type": "markdown",
   "metadata": {},
   "source": [
    "#### - Correlation"
   ]
  },
  {
   "cell_type": "code",
   "execution_count": 7,
   "metadata": {},
   "outputs": [
    {
     "data": {
      "text/html": [
       "<div>\n",
       "<style scoped>\n",
       "    .dataframe tbody tr th:only-of-type {\n",
       "        vertical-align: middle;\n",
       "    }\n",
       "\n",
       "    .dataframe tbody tr th {\n",
       "        vertical-align: top;\n",
       "    }\n",
       "\n",
       "    .dataframe thead th {\n",
       "        text-align: right;\n",
       "    }\n",
       "</style>\n",
       "<table border=\"1\" class=\"dataframe\">\n",
       "  <thead>\n",
       "    <tr style=\"text-align: right;\">\n",
       "      <th></th>\n",
       "      <th>id</th>\n",
       "      <th>store_nbr</th>\n",
       "      <th>sales</th>\n",
       "      <th>onpromotion</th>\n",
       "    </tr>\n",
       "  </thead>\n",
       "  <tbody>\n",
       "    <tr>\n",
       "      <th>id</th>\n",
       "      <td>1.000000</td>\n",
       "      <td>0.000301</td>\n",
       "      <td>0.085784</td>\n",
       "      <td>0.206260</td>\n",
       "    </tr>\n",
       "    <tr>\n",
       "      <th>store_nbr</th>\n",
       "      <td>0.000301</td>\n",
       "      <td>1.000000</td>\n",
       "      <td>0.041196</td>\n",
       "      <td>0.007286</td>\n",
       "    </tr>\n",
       "    <tr>\n",
       "      <th>sales</th>\n",
       "      <td>0.085784</td>\n",
       "      <td>0.041196</td>\n",
       "      <td>1.000000</td>\n",
       "      <td>0.427923</td>\n",
       "    </tr>\n",
       "    <tr>\n",
       "      <th>onpromotion</th>\n",
       "      <td>0.206260</td>\n",
       "      <td>0.007286</td>\n",
       "      <td>0.427923</td>\n",
       "      <td>1.000000</td>\n",
       "    </tr>\n",
       "  </tbody>\n",
       "</table>\n",
       "</div>"
      ],
      "text/plain": [
       "                   id  store_nbr     sales  onpromotion\n",
       "id           1.000000   0.000301  0.085784     0.206260\n",
       "store_nbr    0.000301   1.000000  0.041196     0.007286\n",
       "sales        0.085784   0.041196  1.000000     0.427923\n",
       "onpromotion  0.206260   0.007286  0.427923     1.000000"
      ]
     },
     "execution_count": 7,
     "metadata": {},
     "output_type": "execute_result"
    }
   ],
   "source": [
    "# Check correlation\n",
    "train.corr()"
   ]
  },
  {
   "cell_type": "markdown",
   "metadata": {},
   "source": [
    "## 2. Generate subsets"
   ]
  },
  {
   "cell_type": "code",
   "execution_count": 8,
   "metadata": {},
   "outputs": [
    {
     "name": "stdout",
     "output_type": "stream",
     "text": [
      "<class 'pandas.core.frame.DataFrame'> (55572, 5)\n"
     ]
    },
    {
     "data": {
      "text/html": [
       "<div>\n",
       "<style scoped>\n",
       "    .dataframe tbody tr th:only-of-type {\n",
       "        vertical-align: middle;\n",
       "    }\n",
       "\n",
       "    .dataframe tbody tr th {\n",
       "        vertical-align: top;\n",
       "    }\n",
       "\n",
       "    .dataframe thead th {\n",
       "        text-align: right;\n",
       "    }\n",
       "</style>\n",
       "<table border=\"1\" class=\"dataframe\">\n",
       "  <thead>\n",
       "    <tr style=\"text-align: right;\">\n",
       "      <th></th>\n",
       "      <th>id</th>\n",
       "      <th>date</th>\n",
       "      <th>family</th>\n",
       "      <th>sales</th>\n",
       "      <th>onpromotion</th>\n",
       "    </tr>\n",
       "  </thead>\n",
       "  <tbody>\n",
       "    <tr>\n",
       "      <th>0</th>\n",
       "      <td>0</td>\n",
       "      <td>2013-01-01</td>\n",
       "      <td>AUTOMOTIVE</td>\n",
       "      <td>0.0</td>\n",
       "      <td>0</td>\n",
       "    </tr>\n",
       "    <tr>\n",
       "      <th>1</th>\n",
       "      <td>1</td>\n",
       "      <td>2013-01-01</td>\n",
       "      <td>BABY CARE</td>\n",
       "      <td>0.0</td>\n",
       "      <td>0</td>\n",
       "    </tr>\n",
       "    <tr>\n",
       "      <th>2</th>\n",
       "      <td>2</td>\n",
       "      <td>2013-01-01</td>\n",
       "      <td>BEAUTY</td>\n",
       "      <td>0.0</td>\n",
       "      <td>0</td>\n",
       "    </tr>\n",
       "    <tr>\n",
       "      <th>3</th>\n",
       "      <td>3</td>\n",
       "      <td>2013-01-01</td>\n",
       "      <td>BEVERAGES</td>\n",
       "      <td>0.0</td>\n",
       "      <td>0</td>\n",
       "    </tr>\n",
       "    <tr>\n",
       "      <th>4</th>\n",
       "      <td>4</td>\n",
       "      <td>2013-01-01</td>\n",
       "      <td>BOOKS</td>\n",
       "      <td>0.0</td>\n",
       "      <td>0</td>\n",
       "    </tr>\n",
       "  </tbody>\n",
       "</table>\n",
       "</div>"
      ],
      "text/plain": [
       "   id       date      family  sales  onpromotion\n",
       "0   0 2013-01-01  AUTOMOTIVE    0.0            0\n",
       "1   1 2013-01-01   BABY CARE    0.0            0\n",
       "2   2 2013-01-01      BEAUTY    0.0            0\n",
       "3   3 2013-01-01   BEVERAGES    0.0            0\n",
       "4   4 2013-01-01       BOOKS    0.0            0"
      ]
     },
     "execution_count": 8,
     "metadata": {},
     "output_type": "execute_result"
    }
   ],
   "source": [
    "# Generate subsets for each store number\n",
    "def storenbr_subsets(df, key):\n",
    "    subset = df.loc[df[\"store_nbr\"]==key, :]\n",
    "    subset = subset.drop(columns=[\"store_nbr\"])     \n",
    "    return subset\n",
    "\n",
    "# Save the subsets in dictionary\n",
    "store_list = train[\"store_nbr\"].unique()\n",
    "train_subsets = {}\n",
    "for store in store_list:\n",
    "    train_subsets.update({store : storenbr_subsets(train, store)})\n",
    "\n",
    "test_subsets = {}\n",
    "for store in store_list:\n",
    "    test_subsets.update({store : storenbr_subsets(test, store)})\n",
    "\n",
    "print(type(train_subsets[1]), train_subsets[1].shape)\n",
    "train_subsets[1].head()    # train dafaframe for store number 1"
   ]
  },
  {
   "cell_type": "code",
   "execution_count": 9,
   "metadata": {},
   "outputs": [
    {
     "data": {
      "text/html": [
       "<div>\n",
       "<style scoped>\n",
       "    .dataframe tbody tr th:only-of-type {\n",
       "        vertical-align: middle;\n",
       "    }\n",
       "\n",
       "    .dataframe tbody tr th {\n",
       "        vertical-align: top;\n",
       "    }\n",
       "\n",
       "    .dataframe thead th {\n",
       "        text-align: right;\n",
       "    }\n",
       "</style>\n",
       "<table border=\"1\" class=\"dataframe\">\n",
       "  <thead>\n",
       "    <tr style=\"text-align: right;\">\n",
       "      <th></th>\n",
       "      <th>id</th>\n",
       "      <th>date</th>\n",
       "      <th>sales</th>\n",
       "      <th>onpromotion</th>\n",
       "    </tr>\n",
       "  </thead>\n",
       "  <tbody>\n",
       "    <tr>\n",
       "      <th>0</th>\n",
       "      <td>0</td>\n",
       "      <td>2013-01-01</td>\n",
       "      <td>0.0</td>\n",
       "      <td>0</td>\n",
       "    </tr>\n",
       "    <tr>\n",
       "      <th>1782</th>\n",
       "      <td>1782</td>\n",
       "      <td>2013-01-02</td>\n",
       "      <td>2.0</td>\n",
       "      <td>0</td>\n",
       "    </tr>\n",
       "    <tr>\n",
       "      <th>3564</th>\n",
       "      <td>3564</td>\n",
       "      <td>2013-01-03</td>\n",
       "      <td>3.0</td>\n",
       "      <td>0</td>\n",
       "    </tr>\n",
       "    <tr>\n",
       "      <th>5346</th>\n",
       "      <td>5346</td>\n",
       "      <td>2013-01-04</td>\n",
       "      <td>3.0</td>\n",
       "      <td>0</td>\n",
       "    </tr>\n",
       "    <tr>\n",
       "      <th>7128</th>\n",
       "      <td>7128</td>\n",
       "      <td>2013-01-05</td>\n",
       "      <td>5.0</td>\n",
       "      <td>0</td>\n",
       "    </tr>\n",
       "  </tbody>\n",
       "</table>\n",
       "</div>"
      ],
      "text/plain": [
       "        id       date  sales  onpromotion\n",
       "0        0 2013-01-01    0.0            0\n",
       "1782  1782 2013-01-02    2.0            0\n",
       "3564  3564 2013-01-03    3.0            0\n",
       "5346  5346 2013-01-04    3.0            0\n",
       "7128  7128 2013-01-05    5.0            0"
      ]
     },
     "execution_count": 9,
     "metadata": {},
     "output_type": "execute_result"
    }
   ],
   "source": [
    "# Generate subsets for each family\n",
    "def family_subsets(df, key):\n",
    "    subset = df.loc[df[\"family\"]==key, :]\n",
    "    subset = subset.drop(columns=[\"family\"])     \n",
    "    return subset\n",
    "\n",
    "family_list = train[\"family\"].unique()\n",
    "# Save the subsets in dictionary\n",
    "def store_family_subsets(df, storenbr):\n",
    "    subsets = {}\n",
    "    for family in family_list:\n",
    "        subsets.update({family : family_subsets(df[storenbr], family)})\n",
    "    return subsets\n",
    "\n",
    "store_family_subsets(train_subsets, 1)['AUTOMOTIVE'].head()   # sales dafaframe for 'AUTOMOTIVE' in store number 1"
   ]
  },
  {
   "cell_type": "markdown",
   "metadata": {},
   "source": [
    "## 3. Convert *'date'* to time features"
   ]
  },
  {
   "cell_type": "code",
   "execution_count": 10,
   "metadata": {},
   "outputs": [
    {
     "data": {
      "text/html": [
       "<div>\n",
       "<style scoped>\n",
       "    .dataframe tbody tr th:only-of-type {\n",
       "        vertical-align: middle;\n",
       "    }\n",
       "\n",
       "    .dataframe tbody tr th {\n",
       "        vertical-align: top;\n",
       "    }\n",
       "\n",
       "    .dataframe thead th {\n",
       "        text-align: right;\n",
       "    }\n",
       "</style>\n",
       "<table border=\"1\" class=\"dataframe\">\n",
       "  <thead>\n",
       "    <tr style=\"text-align: right;\">\n",
       "      <th></th>\n",
       "      <th>id</th>\n",
       "      <th>onpromotion</th>\n",
       "      <th>day</th>\n",
       "      <th>week</th>\n",
       "      <th>dayofyear</th>\n",
       "      <th>year</th>\n",
       "    </tr>\n",
       "    <tr>\n",
       "      <th>date</th>\n",
       "      <th></th>\n",
       "      <th></th>\n",
       "      <th></th>\n",
       "      <th></th>\n",
       "      <th></th>\n",
       "      <th></th>\n",
       "    </tr>\n",
       "  </thead>\n",
       "  <tbody>\n",
       "    <tr>\n",
       "      <th>2017-08-16</th>\n",
       "      <td>3000888</td>\n",
       "      <td>0</td>\n",
       "      <td>2</td>\n",
       "      <td>33</td>\n",
       "      <td>228</td>\n",
       "      <td>2017</td>\n",
       "    </tr>\n",
       "    <tr>\n",
       "      <th>2017-08-17</th>\n",
       "      <td>3002670</td>\n",
       "      <td>0</td>\n",
       "      <td>3</td>\n",
       "      <td>33</td>\n",
       "      <td>229</td>\n",
       "      <td>2017</td>\n",
       "    </tr>\n",
       "    <tr>\n",
       "      <th>2017-08-18</th>\n",
       "      <td>3004452</td>\n",
       "      <td>0</td>\n",
       "      <td>4</td>\n",
       "      <td>33</td>\n",
       "      <td>230</td>\n",
       "      <td>2017</td>\n",
       "    </tr>\n",
       "    <tr>\n",
       "      <th>2017-08-19</th>\n",
       "      <td>3006234</td>\n",
       "      <td>0</td>\n",
       "      <td>5</td>\n",
       "      <td>33</td>\n",
       "      <td>231</td>\n",
       "      <td>2017</td>\n",
       "    </tr>\n",
       "    <tr>\n",
       "      <th>2017-08-20</th>\n",
       "      <td>3008016</td>\n",
       "      <td>0</td>\n",
       "      <td>6</td>\n",
       "      <td>33</td>\n",
       "      <td>232</td>\n",
       "      <td>2017</td>\n",
       "    </tr>\n",
       "  </tbody>\n",
       "</table>\n",
       "</div>"
      ],
      "text/plain": [
       "                 id  onpromotion  day  week  dayofyear  year\n",
       "date                                                        \n",
       "2017-08-16  3000888            0    2    33        228  2017\n",
       "2017-08-17  3002670            0    3    33        229  2017\n",
       "2017-08-18  3004452            0    4    33        230  2017\n",
       "2017-08-19  3006234            0    5    33        231  2017\n",
       "2017-08-20  3008016            0    6    33        232  2017"
      ]
     },
     "execution_count": 10,
     "metadata": {},
     "output_type": "execute_result"
    }
   ],
   "source": [
    "# Split 'date' into detailed features\n",
    "def date_features(df):\n",
    "    df = df.set_index('date')   # Make 'date' as an index\n",
    "    df = df.to_period('D')\n",
    "\n",
    "    df[\"day\"] = df.index.dayofweek\n",
    "    df[\"week\"] = df.index.week\n",
    "    df[\"dayofyear\"] = df.index.dayofyear\n",
    "    df[\"year\"] = df.index.year\n",
    "\n",
    "    return df\n",
    "\n",
    "# check\n",
    "date_features(store_family_subsets(test_subsets, 1)['AUTOMOTIVE']).head()"
   ]
  },
  {
   "cell_type": "markdown",
   "metadata": {},
   "source": [
    "## 4. Split *train* dataset into *ourtrain* and *ourtest*"
   ]
  },
  {
   "cell_type": "code",
   "execution_count": 16,
   "metadata": {},
   "outputs": [],
   "source": [
    "def split_train_test(df):\n",
    "    \n",
    "    ourtrain = df[df.index < '2017-01-01']    # 2013-01-01 ~ 2016-12-31\n",
    "    ourtest = df[df.index > '2016-12-31']     # 2017-01-01 ~ 2017-08-15\n",
    "    return ourtrain, ourtest\n",
    "\n",
    "ourtrain, ourtest = split_train_test(date_features(train))"
   ]
  },
  {
   "cell_type": "markdown",
   "metadata": {},
   "source": [
    "## 5. Apply various ML models"
   ]
  },
  {
   "cell_type": "markdown",
   "metadata": {},
   "source": [
    "### 1) Trend"
   ]
  },
  {
   "cell_type": "code",
   "execution_count": 17,
   "metadata": {},
   "outputs": [],
   "source": [
    "# Fit data to trend model\n",
    "def trend(ourtrain, ourtest):   # return y_fore\n",
    "\n",
    "    # Targets\n",
    "    y_train = ourtrain['sales']\n",
    "    test_id = ourtest['id']\n",
    "    \n",
    "    # Create features\n",
    "    trend_dp = DeterministicProcess(\n",
    "    index=ourtrain.index,   # dates from the training data\n",
    "    constant=True,       # dummy feature for the bias (y_intercept)\n",
    "    order=2,             # the time dummy (trend)\n",
    "    drop=True,           # drop terms if necessary to avoid collinearity\n",
    "    )\n",
    "\n",
    "    # `in_sample` creates features for the dates given in the `index` argument\n",
    "    X_train = trend_dp.in_sample()\n",
    "\n",
    "    # Fit model\n",
    "    model = LinearRegression(fit_intercept=False)\n",
    "    model.fit(X_train, y_train)\n",
    "\n",
    "    # Out of Sample \n",
    "    X_oos = trend_dp.out_of_sample(steps=len(ourtest.index))\n",
    "    y_fore = pd.Series(model.predict(X_oos), index=X_oos.index)\n",
    "    y_fore = pd.concat([y_fore, test_id], axis=1)\n",
    "    y_fore = y_fore.rename(columns={0: 'sales'})\n",
    "\n",
    "    return y_fore"
   ]
  },
  {
   "cell_type": "markdown",
   "metadata": {},
   "source": [
    "### 2) Periodogram"
   ]
  },
  {
   "cell_type": "code",
   "execution_count": 18,
   "metadata": {},
   "outputs": [],
   "source": [
    "def seasonal(ourtrain, ourtest):    # return y_fore\n",
    "\n",
    "    test_id = ourtest['id']\n",
    "    \n",
    "    # 12 sin/cos pairs for \"A\"nnual seasonality\n",
    "    fourier = CalendarFourier(freq=\"A\", order=12)\n",
    "    season_dp = DeterministicProcess(\n",
    "        index=ourtrain.index,\n",
    "        constant=True,               # dummy feature for bias (y-intercept)\n",
    "        order=1,                     # trend (order 1 means linear)\n",
    "        seasonal=True,               # weekly seasonality (indicators)\n",
    "        additional_terms=[fourier],  # annual seasonality (fourier)\n",
    "        drop=True,                   # drop terms to avoid collinearity\n",
    "    )\n",
    "\n",
    "    X = season_dp.in_sample()  # create features for dates in ourtrain.index\n",
    "    y = ourtrain[\"sales\"]\n",
    "\n",
    "    season_model = LinearRegression(fit_intercept=False)\n",
    "    _ = season_model.fit(X, y)\n",
    "\n",
    "    # Forecasting for 2017-01-01 ~ 2017-08-15\n",
    "    X_fore = season_dp.out_of_sample(steps=len(ourtest.index))\n",
    "    y_fore = pd.Series(season_model.predict(X_fore), index=X_fore.index)\n",
    "    y_fore = pd.concat([y_fore, test_id], axis=1)\n",
    "    y_fore = y_fore.rename(columns={0: 'sales'})\n",
    "\n",
    "    return y_fore"
   ]
  },
  {
   "cell_type": "markdown",
   "metadata": {},
   "source": [
    "### 3) Cycles"
   ]
  },
  {
   "cell_type": "code",
   "execution_count": 19,
   "metadata": {},
   "outputs": [],
   "source": [
    "def lagplot(x, y=None, lag=1, standardize=False, ax=None, **kwargs):\n",
    "    from matplotlib.offsetbox import AnchoredText\n",
    "    x_ = x.shift(lag)\n",
    "    if standardize:\n",
    "        x_ = (x_ - x_.mean()) / x_.std()\n",
    "    if y is not None:\n",
    "        y_ = (y - y.mean()) / y.std() if standardize else y\n",
    "    else:\n",
    "        y_ = x\n",
    "    corr = y_.corr(x_)\n",
    "    if ax is None:\n",
    "        fig, ax = plt.subplots()\n",
    "    scatter_kws = dict(\n",
    "        alpha=0.75,\n",
    "        s=3,\n",
    "    )\n",
    "    line_kws = dict(color='C3', )\n",
    "    ax = sns.regplot(x=x_,\n",
    "                     y=y_,\n",
    "                     scatter_kws=scatter_kws,\n",
    "                     line_kws=line_kws,\n",
    "                     lowess=True,\n",
    "                     ax=ax,\n",
    "                     **kwargs)\n",
    "    at = AnchoredText(\n",
    "        f\"{corr:.2f}\",\n",
    "        prop=dict(size=\"large\"),\n",
    "        frameon=True,\n",
    "        loc=\"upper left\",\n",
    "    )\n",
    "    at.patch.set_boxstyle(\"square, pad=0.0\")\n",
    "    ax.add_artist(at)\n",
    "    ax.set(title=f\"Lag {lag}\", xlabel=x_.name, ylabel=y_.name)\n",
    "    return ax\n",
    "    "
   ]
  },
  {
   "cell_type": "code",
   "execution_count": 20,
   "metadata": {},
   "outputs": [],
   "source": [
    "def plot_lags(x, y=None, lags=6, nrows=1, lagplot_kwargs={}, **kwargs):\n",
    "    import math\n",
    "    kwargs.setdefault('nrows', nrows)\n",
    "    kwargs.setdefault('ncols', math.ceil(lags / nrows))\n",
    "    kwargs.setdefault('figsize', (kwargs['ncols'] * 2, nrows * 2 + 0.5))\n",
    "    fig, axs = plt.subplots(sharex=True, sharey=True, squeeze=False, **kwargs)\n",
    "    for ax, k in zip(fig.get_axes(), range(kwargs['nrows'] * kwargs['ncols'])):\n",
    "        if k + 1 <= lags:\n",
    "            ax = lagplot(x, y, lag=k + 1, ax=ax, **lagplot_kwargs)\n",
    "            ax.set_title(f\"Lag {k + 1}\", fontdict=dict(fontsize=14))\n",
    "            ax.set(xlabel=\"\", ylabel=\"\")\n",
    "        else:\n",
    "            ax.axis('off')\n",
    "    plt.setp(axs[-1, :], xlabel=x.name)\n",
    "    plt.setp(axs[:, 0], ylabel=y.name if y is not None else x.name)\n",
    "    fig.tight_layout(w_pad=0.1, h_pad=0.1)\n",
    "    return fig"
   ]
  },
  {
   "cell_type": "code",
   "execution_count": null,
   "metadata": {},
   "outputs": [],
   "source": [
    "# Partial Autocorrelataion\n",
    "from statsmodels.graphics.tsaplots import plot_pacf\n",
    "\n",
    "plot_lags(ourtrain.sales, lags=12, nrows=2)\n",
    "_ = plot_pacf(ourtrain.sales, lags=12)"
   ]
  },
  {
   "cell_type": "code",
   "execution_count": 22,
   "metadata": {},
   "outputs": [],
   "source": [
    "def make_lags(ts, lags):\n",
    "    return pd.concat(\n",
    "        {\n",
    "            f'y_lag_{i}': ts.shift(i)\n",
    "            for i in range(1, lags + 1)\n",
    "        },\n",
    "        axis=1)"
   ]
  },
  {
   "cell_type": "code",
   "execution_count": 34,
   "metadata": {},
   "outputs": [],
   "source": [
    "from sklearn.model_selection import train_test_split\n",
    "\n",
    "def cycle(ourtrain, ourtest):\n",
    "\n",
    "    test_id = ourtest['id']\n",
    "\n",
    "    X_train = make_lags(ourtrain.sales, lags=1)\n",
    "    X_train = X_train.fillna(0.0)\n",
    "    y_train = ourtrain.sales\n",
    "    X_test = make_lags(ourtest.sales, lags=1)\n",
    "    X_test = X_test.fillna(0.0)\n",
    "\n",
    "\n",
    "    # X = make_lags(ourtrain.sales, lags=1)\n",
    "    # X = X.fillna(0.0)\n",
    "    # y = ourtrain.sales\n",
    "    # # Deleted 'Shuffle = \"False\"'\n",
    "    # X_train, X_test, y_train, y_test = train_test_split(X, y, test_size=int(len(ourtest.index)))\n",
    "\n",
    "\n",
    "    ts_model = LinearRegression()\n",
    "    ts_model.fit(X_train, y_train)\n",
    "    y_fore = pd.Series(ts_model.predict(X_test), index=ourtest.index)\n",
    "    \n",
    "\n",
    "    y_fore = pd.concat([y_fore, test_id], axis=1)\n",
    "    y_fore = y_fore.rename(columns={0: 'sales'})\n",
    "\n",
    "    return y_fore"
   ]
  },
  {
   "cell_type": "markdown",
   "metadata": {},
   "source": [
    "### 4) Hybrid"
   ]
  },
  {
   "cell_type": "code",
   "execution_count": 24,
   "metadata": {},
   "outputs": [],
   "source": [
    "from xgboost import XGBRegressor\n",
    "\n",
    "def hybrid(ourtrain, ourtest):\n",
    "\n",
    "    test_id = ourtest['id']\n",
    " \n",
    "    # Create features\n",
    "    hybrid_dp = DeterministicProcess(\n",
    "        index=ourtrain.index,  # dates from the training data\n",
    "        constant=True,       # dummy feature for the bias (y_intercept)\n",
    "        order=2,             # the time dummy (trend)\n",
    "        drop=True,           # drop terms if necessary to avoid collinearity\n",
    "    )\n",
    "\n",
    "    # `in_sample` creates features for the dates given in the `index` argument\n",
    "    X_train = hybrid_dp.in_sample()\n",
    "    y_train = ourtrain['sales'] # Targets\n",
    "\n",
    "    # Fit model\n",
    "    model = LinearRegression(fit_intercept=False)\n",
    "    model.fit(X_train, y_train)\n",
    "    y_pre = pd.Series(model.predict(X_train), index=X_train.index)  # predicted value using in-sample(train)\n",
    "\n",
    "    # Out of Sample \n",
    "    X_oos = hybrid_dp.out_of_sample(steps=len(ourtest.index))\n",
    "    y_fore = pd.Series(model.predict(X_oos), index=X_oos.index)     # predicted value using out-sample(test)\n",
    "\n",
    "    # Create residuals (the collection of detrended series) from the training set\n",
    "    y_resid = y_train - y_pre\n",
    "\n",
    "    # Train XGBoost on the residuals\n",
    "    xgb = XGBRegressor()\n",
    "    xgb.fit(X_train, y_resid)\n",
    "\n",
    "    # Add the predicted residuals onto the predicted trends\n",
    "    y_fore_boosted = xgb.predict(X_oos) + y_fore    # redisual(predicted) + linear forecasting\n",
    "    y_fore_boosted = pd.concat([y_fore_boosted, test_id], axis=1)\n",
    "    y_fore_boosted= y_fore_boosted.rename(columns={0: 'sales'})\n",
    "\n",
    "    return y_fore_boosted\n"
   ]
  },
  {
   "cell_type": "markdown",
   "metadata": {},
   "source": [
    "## 6. Proceed forecasting with the best model"
   ]
  },
  {
   "cell_type": "code",
   "execution_count": 37,
   "metadata": {},
   "outputs": [
    {
     "name": "stdout",
     "output_type": "stream",
     "text": [
      "Total error with Trend model: 1221.5500000000027\n",
      "Total error with Seasonal model: 1184.7700000000004\n",
      "Total error with Cycle model: 1624.4099999999996\n",
      "Total error with Hybrid model: 1522.739999999996\n"
     ]
    }
   ],
   "source": [
    "# Find the best fit model\n",
    "print(\"Total error with Trend model:\", errors_model(trend))         # 1221.55\n",
    "print(\"Total error with Seasonal model:\", errors_model(seasonal))   # 1184.77\n",
    "print(\"Total error with Cycle model:\", errors_model(cycle))         # 1624.41\n",
    "print(\"Total error with Hybrid model:\", errors_model(hybrid))       # 1522.74"
   ]
  },
  {
   "cell_type": "code",
   "execution_count": 131,
   "metadata": {},
   "outputs": [
    {
     "name": "stdout",
     "output_type": "stream",
     "text": [
      "(28512, 2)\n"
     ]
    }
   ],
   "source": [
    "forecasted = pd.DataFrame()\n",
    "for store in store_list:\n",
    "    for family in family_list:\n",
    "        # modify train and test datasets\n",
    "        train_m = date_features(store_family_subsets(train_subsets, store)[family])\n",
    "        test_m = date_features(store_family_subsets(test_subsets, store)[family])\n",
    "\n",
    "        # apply seasonal model\n",
    "        y_fore = seasonal(train_m, test_m)\n",
    "\n",
    "        forecasted = pd.concat([forecasted, y_fore])\n",
    "\n",
    "# sort by 'id'\n",
    "forecasted = forecasted.sort_values(by='id')    \n",
    "\n",
    "# chage order of columns\n",
    "cols = ['sales', 'id']\n",
    "cols = cols[-1:] + cols[:-1]    # ['id', 'sales']\n",
    "forecasted = forecasted[cols]\n",
    "\n",
    "# round by 1\n",
    "forecasted['sales'] = forecasted['sales'].apply(lambda x: round(x, 1))\n",
    "forecasted"
   ]
  },
  {
   "cell_type": "markdown",
   "metadata": {},
   "source": [
    "## 7. Create csv file"
   ]
  },
  {
   "cell_type": "code",
   "execution_count": 147,
   "metadata": {},
   "outputs": [],
   "source": [
    "y_submit = forecasted.to_csv('submission.csv', index=False)"
   ]
  }
 ],
 "metadata": {
  "interpreter": {
   "hash": "1945a49d8267038c199a72e8f61b6bfcbb9f4626ddb3ddff4ec56a3f45e14a7a"
  },
  "kernelspec": {
   "display_name": "Python 3.9.7 ('base')",
   "language": "python",
   "name": "python3"
  },
  "language_info": {
   "codemirror_mode": {
    "name": "ipython",
    "version": 3
   },
   "file_extension": ".py",
   "mimetype": "text/x-python",
   "name": "python",
   "nbconvert_exporter": "python",
   "pygments_lexer": "ipython3",
   "version": "3.9.7"
  },
  "orig_nbformat": 4
 },
 "nbformat": 4,
 "nbformat_minor": 2
}
