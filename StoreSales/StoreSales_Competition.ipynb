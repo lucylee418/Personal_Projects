{
 "cells": [
  {
   "cell_type": "markdown",
   "metadata": {},
   "source": [
    "# 1. Preprocessing"
   ]
  },
  {
   "cell_type": "code",
   "execution_count": 1,
   "metadata": {},
   "outputs": [],
   "source": [
    "# Setup notebook\n",
    "from pathlib import Path\n",
    "\n",
    "import pandas as pd\n",
    "import matplotlib.pyplot as plt\n",
    "import numpy as np\n",
    "import seaborn as sns\n",
    "from sklearn.linear_model import LinearRegression\n",
    "import datetime\n",
    "import math\n",
    "from statsmodels.tsa.deterministic import DeterministicProcess"
   ]
  },
  {
   "cell_type": "code",
   "execution_count": 2,
   "metadata": {},
   "outputs": [],
   "source": [
    "# Ignore Future Warning\n",
    "import warnings\n",
    "warnings.simplefilter(action='ignore', category=FutureWarning)"
   ]
  },
  {
   "cell_type": "code",
   "execution_count": 3,
   "metadata": {},
   "outputs": [],
   "source": [
    "# Setup\n",
    "train = pd.read_csv('train.csv', parse_dates=[\"date\"])\n",
    "test = pd.read_csv('test.csv', parse_dates=[\"date\"])"
   ]
  },
  {
   "cell_type": "code",
   "execution_count": 4,
   "metadata": {},
   "outputs": [
    {
     "name": "stdout",
     "output_type": "stream",
     "text": [
      "(3000888, 6) (28512, 5)\n"
     ]
    }
   ],
   "source": [
    "print(train.shape, test.shape)\n",
    "# train.head()\n",
    "# test.head()"
   ]
  },
  {
   "cell_type": "code",
   "execution_count": 5,
   "metadata": {},
   "outputs": [],
   "source": [
    "# Error Function (RMSLE)\n",
    "def error(y_p, y_t):\n",
    "    # y_p: predictted (fitted)\n",
    "    # y_t: test (actual)\n",
    "    pred_log = np.array([math.log(i+1) for i in np.nditer(y_p)])\n",
    "    act_log = np.array([math.log(i+1) for i in np.nditer(y_t)])\n",
    "    dum_error = sum((pred_log - act_log)**2)/len(pred_log)\n",
    "    linear_error = np.power(dum_error, 1/2)\n",
    "    return round(linear_error, 4)"
   ]
  },
  {
   "cell_type": "markdown",
   "metadata": {},
   "source": [
    "## Blue print\n",
    "\n",
    "1. Make subsets for each family\n",
    "2. Separate train data set into \"ourtrain\" and \"ourtest\" (**sorted**, 70:30)\n",
    "3. Apply ML models to all subsets\n",
    "4. Compute total error from all subsets\n",
    "5. Choose the ML model which gives the min error\n",
    "6. Apply to the test data set"
   ]
  },
  {
   "cell_type": "markdown",
   "metadata": {},
   "source": [
    "### - Check Correlation"
   ]
  },
  {
   "cell_type": "code",
   "execution_count": 6,
   "metadata": {},
   "outputs": [
    {
     "data": {
      "text/html": [
       "<div>\n",
       "<style scoped>\n",
       "    .dataframe tbody tr th:only-of-type {\n",
       "        vertical-align: middle;\n",
       "    }\n",
       "\n",
       "    .dataframe tbody tr th {\n",
       "        vertical-align: top;\n",
       "    }\n",
       "\n",
       "    .dataframe thead th {\n",
       "        text-align: right;\n",
       "    }\n",
       "</style>\n",
       "<table border=\"1\" class=\"dataframe\">\n",
       "  <thead>\n",
       "    <tr style=\"text-align: right;\">\n",
       "      <th></th>\n",
       "      <th>id</th>\n",
       "      <th>store_nbr</th>\n",
       "      <th>sales</th>\n",
       "      <th>onpromotion</th>\n",
       "    </tr>\n",
       "  </thead>\n",
       "  <tbody>\n",
       "    <tr>\n",
       "      <th>id</th>\n",
       "      <td>1.000000</td>\n",
       "      <td>0.000301</td>\n",
       "      <td>0.085784</td>\n",
       "      <td>0.206260</td>\n",
       "    </tr>\n",
       "    <tr>\n",
       "      <th>store_nbr</th>\n",
       "      <td>0.000301</td>\n",
       "      <td>1.000000</td>\n",
       "      <td>0.041196</td>\n",
       "      <td>0.007286</td>\n",
       "    </tr>\n",
       "    <tr>\n",
       "      <th>sales</th>\n",
       "      <td>0.085784</td>\n",
       "      <td>0.041196</td>\n",
       "      <td>1.000000</td>\n",
       "      <td>0.427923</td>\n",
       "    </tr>\n",
       "    <tr>\n",
       "      <th>onpromotion</th>\n",
       "      <td>0.206260</td>\n",
       "      <td>0.007286</td>\n",
       "      <td>0.427923</td>\n",
       "      <td>1.000000</td>\n",
       "    </tr>\n",
       "  </tbody>\n",
       "</table>\n",
       "</div>"
      ],
      "text/plain": [
       "                   id  store_nbr     sales  onpromotion\n",
       "id           1.000000   0.000301  0.085784     0.206260\n",
       "store_nbr    0.000301   1.000000  0.041196     0.007286\n",
       "sales        0.085784   0.041196  1.000000     0.427923\n",
       "onpromotion  0.206260   0.007286  0.427923     1.000000"
      ]
     },
     "execution_count": 6,
     "metadata": {},
     "output_type": "execute_result"
    }
   ],
   "source": [
    "# Check if we can drop 'store_nbr' and 'onpromotion'\n",
    "train.corr()"
   ]
  },
  {
   "cell_type": "markdown",
   "metadata": {},
   "source": [
    "**Comment**: 'store_nbr' has weak correlation(0.04), and 'onpromotion' has moderate correlation(0.43) with 'sales'. We will drop thoes two columns and focus on prediction based on time."
   ]
  },
  {
   "cell_type": "code",
   "execution_count": 7,
   "metadata": {},
   "outputs": [
    {
     "data": {
      "text/html": [
       "<div>\n",
       "<style scoped>\n",
       "    .dataframe tbody tr th:only-of-type {\n",
       "        vertical-align: middle;\n",
       "    }\n",
       "\n",
       "    .dataframe tbody tr th {\n",
       "        vertical-align: top;\n",
       "    }\n",
       "\n",
       "    .dataframe thead th {\n",
       "        text-align: right;\n",
       "    }\n",
       "</style>\n",
       "<table border=\"1\" class=\"dataframe\">\n",
       "  <thead>\n",
       "    <tr style=\"text-align: right;\">\n",
       "      <th></th>\n",
       "      <th>id</th>\n",
       "      <th>date</th>\n",
       "      <th>family</th>\n",
       "    </tr>\n",
       "  </thead>\n",
       "  <tbody>\n",
       "    <tr>\n",
       "      <th>0</th>\n",
       "      <td>3000888</td>\n",
       "      <td>2017-08-16</td>\n",
       "      <td>AUTOMOTIVE</td>\n",
       "    </tr>\n",
       "    <tr>\n",
       "      <th>1</th>\n",
       "      <td>3000889</td>\n",
       "      <td>2017-08-16</td>\n",
       "      <td>BABY CARE</td>\n",
       "    </tr>\n",
       "    <tr>\n",
       "      <th>2</th>\n",
       "      <td>3000890</td>\n",
       "      <td>2017-08-16</td>\n",
       "      <td>BEAUTY</td>\n",
       "    </tr>\n",
       "    <tr>\n",
       "      <th>3</th>\n",
       "      <td>3000891</td>\n",
       "      <td>2017-08-16</td>\n",
       "      <td>BEVERAGES</td>\n",
       "    </tr>\n",
       "    <tr>\n",
       "      <th>4</th>\n",
       "      <td>3000892</td>\n",
       "      <td>2017-08-16</td>\n",
       "      <td>BOOKS</td>\n",
       "    </tr>\n",
       "  </tbody>\n",
       "</table>\n",
       "</div>"
      ],
      "text/plain": [
       "        id       date      family\n",
       "0  3000888 2017-08-16  AUTOMOTIVE\n",
       "1  3000889 2017-08-16   BABY CARE\n",
       "2  3000890 2017-08-16      BEAUTY\n",
       "3  3000891 2017-08-16   BEVERAGES\n",
       "4  3000892 2017-08-16       BOOKS"
      ]
     },
     "execution_count": 7,
     "metadata": {},
     "output_type": "execute_result"
    }
   ],
   "source": [
    "# Drop 'store_nbr' and 'onpromotion'\n",
    "train = train.drop(['store_nbr','onpromotion'], axis=1)\n",
    "test = test.drop(['store_nbr','onpromotion'], axis=1)\n",
    "test.head()"
   ]
  },
  {
   "cell_type": "markdown",
   "metadata": {},
   "source": [
    "# 2. Make subsets of each family"
   ]
  },
  {
   "cell_type": "code",
   "execution_count": 8,
   "metadata": {},
   "outputs": [
    {
     "name": "stdout",
     "output_type": "stream",
     "text": [
      "['AUTOMOTIVE' 'BABY CARE' 'BEAUTY' 'BEVERAGES' 'BOOKS' 'BREAD/BAKERY'\n",
      " 'CELEBRATION' 'CLEANING' 'DAIRY' 'DELI' 'EGGS' 'FROZEN FOODS' 'GROCERY I'\n",
      " 'GROCERY II' 'HARDWARE' 'HOME AND KITCHEN I' 'HOME AND KITCHEN II'\n",
      " 'HOME APPLIANCES' 'HOME CARE' 'LADIESWEAR' 'LAWN AND GARDEN' 'LINGERIE'\n",
      " 'LIQUOR,WINE,BEER' 'MAGAZINES' 'MEATS' 'PERSONAL CARE' 'PET SUPPLIES'\n",
      " 'PLAYERS AND ELECTRONICS' 'POULTRY' 'PREPARED FOODS' 'PRODUCE'\n",
      " 'SCHOOL AND OFFICE SUPPLIES' 'SEAFOOD'] \n",
      "Number of unique values: 33\n"
     ]
    }
   ],
   "source": [
    "# Check unique values of \"family\"\n",
    "family_list = train[\"family\"].unique()\n",
    "print(family_list, \"\\nNumber of unique values:\", len(family_list))"
   ]
  },
  {
   "cell_type": "code",
   "execution_count": 9,
   "metadata": {},
   "outputs": [],
   "source": [
    "# Generates subsets for each family\n",
    "def generate_subsets(family):\n",
    "    subset = train.loc[train['family']==family, :]\n",
    "    return subset\n",
    "\n",
    "# Save the subsets in dictionary\n",
    "subsets = {}\n",
    "for family in family_list:\n",
    "    subsets.update({family:generate_subsets(family)})\n",
    "\n",
    "# # Check\n",
    "# subsets['GROCERY II'].head()"
   ]
  },
  {
   "cell_type": "code",
   "execution_count": 10,
   "metadata": {},
   "outputs": [],
   "source": [
    "# Extracts features\n",
    "def ext_features(df):\n",
    "    return df.drop(['sales'], axis=1)\n",
    "\n",
    "# Extracts targets\n",
    "def ext_targets(df):\n",
    "    return df['sales']"
   ]
  },
  {
   "cell_type": "code",
   "execution_count": 41,
   "metadata": {},
   "outputs": [],
   "source": [
    "# Separate \"train\" data set into \"ourtrain\" and \"ourtest\" (sorted, 70:30)\n",
    "from sklearn.model_selection import train_test_split\n",
    "\n",
    "# Splits the tain data into 70:30\n",
    "def split_train(df):\n",
    "    return train_test_split(df, test_size=0.3, random_state=None, shuffle=False)\n",
    "\n",
    "# # Generate 'ourtrain' and 'ourtest'\n",
    "# ourtrain, ourtest = split_train(train)"
   ]
  },
  {
   "cell_type": "markdown",
   "metadata": {},
   "source": [
    "### - Check plots for each subsets"
   ]
  },
  {
   "cell_type": "code",
   "execution_count": 42,
   "metadata": {},
   "outputs": [],
   "source": [
    "# Make a plot\n",
    "def make_plot(key, ax):\n",
    "    ourtrain, ourtest = split_train(subsets[key])\n",
    "    train = ourtrain[['date', 'sales']].set_index(\"date\").to_period(\"D\")\n",
    "    test = ourtest[['date', 'sales']].set_index(\"date\").to_period(\"D\")\n",
    "    \n",
    "    train[:].plot(ax=ax, figsize=(20,10), style=\".\", color=\"0.5\")\n",
    "    ax = test[:].plot(ax=ax, style=\".\", color=\"0.8\")\n",
    "\n",
    "    ax.set_title(\"Store Sales - {family}\".format(family=key), fontsize=20)\n",
    "    trendlabels = ['Train', 'Test']\n",
    "    _ = ax.legend(labels=trendlabels, prop={'size': 14})\n",
    "    _ = plt.xlabel(\"Dates\", size=14)\n",
    "    _ = plt.ylabel(\"Sales\", size=14)\n",
    "\n",
    "    plt.tight_layout()  \n",
    "    \n",
    "    return ax"
   ]
  },
  {
   "cell_type": "code",
   "execution_count": 43,
   "metadata": {},
   "outputs": [],
   "source": [
    "# Check 3 plots at a time\n",
    "def mul_plots(first, second, third):\n",
    "    subsets_fig, (ax1, ax2, ax3) = plt.subplots(3, 1, figsize=(20, 10))\n",
    "    make_plot(first, ax=ax1)\n",
    "    make_plot(second, ax=ax2)\n",
    "    make_plot(third, ax=ax3)\n",
    "\n",
    "    return ax1, ax2, ax3"
   ]
  },
  {
   "cell_type": "code",
   "execution_count": 44,
   "metadata": {},
   "outputs": [
    {
     "data": {
      "text/plain": [
       "(<AxesSubplot:title={'center':'Store Sales - AUTOMOTIVE'}, xlabel='date'>,\n",
       " <AxesSubplot:title={'center':'Store Sales - BABY CARE'}, xlabel='date'>,\n",
       " <AxesSubplot:title={'center':'Store Sales - BEAUTY'}, xlabel='Dates', ylabel='Sales'>)"
      ]
     },
     "execution_count": 44,
     "metadata": {},
     "output_type": "execute_result"
    },
    {
     "data": {
      "image/png": "[encoded data removed]",
      "text/plain": [
       "<Figure size 1440x720 with 3 Axes>"
      ]
     },
     "metadata": {
      "needs_background": "light"
     },
     "output_type": "display_data"
    }
   ],
   "source": [
    "mul_plots('AUTOMOTIVE', 'BABY CARE', 'BEAUTY')"
   ]
  },
  {
   "cell_type": "markdown",
   "metadata": {},
   "source": [
    "# 4. Apply ML models"
   ]
  },
  {
   "cell_type": "markdown",
   "metadata": {},
   "source": [
    "### 1) Trend"
   ]
  },
  {
   "cell_type": "code",
   "execution_count": 45,
   "metadata": {},
   "outputs": [],
   "source": [
    "# Fit data to trend model\n",
    "def trend(ourtrain, ourtest, error):  \n",
    "\n",
    "    # Modify data format\n",
    "    train = ourtrain[['date', 'sales']].set_index(\"date\").to_period(\"D\")\n",
    "    test = ourtest[['date', 'sales']].set_index(\"date\").to_period(\"D\")\n",
    "\n",
    "    # Targets\n",
    "    y_train = ext_targets(train)\n",
    "    y_test = ext_targets(test)\n",
    "    \n",
    "    # Create features\n",
    "    trend_dp = DeterministicProcess(\n",
    "    index=train.index,  # dates from the training data\n",
    "    constant=True,       # dummy feature for the bias (y_intercept)\n",
    "    order=2,             # the time dummy (trend)\n",
    "    drop=True,           # drop terms if necessary to avoid collinearity\n",
    "    )\n",
    "\n",
    "    # `in_sample` creates features for the dates given in the `index` argument\n",
    "    X_train = trend_dp.in_sample()\n",
    "\n",
    "    # Fit model\n",
    "    model = LinearRegression(fit_intercept=False)\n",
    "    model.fit(X_train, y_train)\n",
    "    y_pre = pd.Series(model.predict(X_train), index=X_train.index)\n",
    "\n",
    "    # Out of Sample \n",
    "    X_oos = trend_dp.out_of_sample(steps=len(test.index))\n",
    "    y_fore = pd.Series(model.predict(X_oos), index=X_oos.index)\n",
    "\n",
    "    # # Plot\n",
    "    # ax = train[:].scatter(figsize=(20,10), linewidth=0.5, marker=\"o\", markersize=2, color=\"0.5\")\n",
    "    # ax = y_pre[:].plot(ax=ax, linewidth=3, label=\"Trend\")\n",
    "    # ax = test[:].scatter(ax=ax, linewidth=0.5, marker=\"o\", markersize=2, color=\"0.8\")\n",
    "    # ax = y_fore.plot(ax=ax, linewidth=3, label=\"Trend Forecast\", color=\"C3\")\n",
    "\n",
    "    # ax.set_title(\"Store Sales - Linear Trend Forecast\", fontsize=20)\n",
    "    # trendlabels = ['Actual Sales in Train', 'Trend', 'Actual Sales in Test', 'Trend Forecast']\n",
    "    # _ = ax.legend(labels=trendlabels, prop={'size': 14})\n",
    "    # _ = plt.xlabel(\"Id\", size=14)\n",
    "    # _ = plt.ylabel(\"Sales\", size=14)\n",
    "\n",
    "    return error(y_fore, y_test)\n"
   ]
  },
  {
   "cell_type": "code",
   "execution_count": 46,
   "metadata": {},
   "outputs": [],
   "source": [
    "# Compute errors of all subsets\n",
    "trend_errors = []\n",
    "for key in family_list:\n",
    "    ourtrain, ourtest = split_train(subsets[key])\n",
    "    trend_errors.append(trend(ourtrain, ourtest, error))"
   ]
  },
  {
   "cell_type": "code",
   "execution_count": 47,
   "metadata": {},
   "outputs": [
    {
     "name": "stdout",
     "output_type": "stream",
     "text": [
      "Total Error from Trend model:  39.635799999999996\n"
     ]
    }
   ],
   "source": [
    "print(\"Total Error from Trend model: \", sum(trend_errors))"
   ]
  },
  {
   "cell_type": "markdown",
   "metadata": {},
   "source": [
    "### 2) Seasonal Plot"
   ]
  },
  {
   "cell_type": "code",
   "execution_count": null,
   "metadata": {},
   "outputs": [],
   "source": []
  },
  {
   "cell_type": "markdown",
   "metadata": {},
   "source": [
    "### 3) Periodogram"
   ]
  },
  {
   "cell_type": "code",
   "execution_count": null,
   "metadata": {},
   "outputs": [],
   "source": []
  },
  {
   "cell_type": "markdown",
   "metadata": {},
   "source": [
    "### 4) Cycles"
   ]
  },
  {
   "cell_type": "code",
   "execution_count": null,
   "metadata": {},
   "outputs": [],
   "source": []
  },
  {
   "cell_type": "markdown",
   "metadata": {},
   "source": [
    "### 5) Hybrid _ Direct Strategy"
   ]
  },
  {
   "cell_type": "code",
   "execution_count": null,
   "metadata": {},
   "outputs": [],
   "source": []
  },
  {
   "cell_type": "markdown",
   "metadata": {},
   "source": [
    "# 5. Choose the ML model which gives the min error"
   ]
  },
  {
   "cell_type": "code",
   "execution_count": null,
   "metadata": {},
   "outputs": [],
   "source": []
  },
  {
   "cell_type": "code",
   "execution_count": null,
   "metadata": {},
   "outputs": [],
   "source": []
  }
 ],
 "metadata": {
  "interpreter": {
   "hash": "1945a49d8267038c199a72e8f61b6bfcbb9f4626ddb3ddff4ec56a3f45e14a7a"
  },
  "kernelspec": {
   "display_name": "Python 3.9.7 ('base')",
   "language": "python",
   "name": "python3"
  },
  "language_info": {
   "codemirror_mode": {
    "name": "ipython",
    "version": 3
   },
   "file_extension": ".py",
   "mimetype": "text/x-python",
   "name": "python",
   "nbconvert_exporter": "python",
   "pygments_lexer": "ipython3",
   "version": "3.9.7"
  },
  "orig_nbformat": 4
 },
 "nbformat": 4,
 "nbformat_minor": 2
}
